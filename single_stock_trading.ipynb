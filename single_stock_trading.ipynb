{
 "cells": [
  {
   "cell_type": "code",
   "execution_count": 1,
   "metadata": {},
   "outputs": [
    {
     "name": "stderr",
     "output_type": "stream",
     "text": [
      "c:\\ProgramData\\Miniconda3\\envs\\FTL\\lib\\site-packages\\tqdm\\auto.py:22: TqdmWarning: IProgress not found. Please update jupyter and ipywidgets. See https://ipywidgets.readthedocs.io/en/stable/user_install.html\n",
      "  from .autonotebook import tqdm as notebook_tqdm\n"
     ]
    }
   ],
   "source": [
    "import os\n",
    "from typing import Dict\n",
    "\n",
    "import matplotlib.pyplot as plt\n",
    "import numpy as np\n",
    "import pandas as pd\n",
    "import ray\n",
    "from ray import tune, air\n",
    "from ray.tune import JupyterNotebookReporter\n",
    "from ray.tune.logger import TBXLoggerCallback\n",
    "from ray.rllib.algorithms.callbacks import DefaultCallbacks\n",
    "from ray.rllib.env import BaseEnv\n",
    "from ray.rllib.evaluation import Episode, RolloutWorker\n",
    "from ray.rllib.evaluation.episode_v2 import EpisodeV2\n",
    "from ray.rllib.policy import Policy\n",
    "import seaborn as sns\n",
    "\n",
    "from stocktradingv2.agent.mydqn import MyDQNConfig, MyDQN\n",
    "from stocktradingv2.env.SingleStockTradingEnv import SingleStockTradingEnv"
   ]
  },
  {
   "cell_type": "code",
   "execution_count": 2,
   "metadata": {},
   "outputs": [
    {
     "name": "stderr",
     "output_type": "stream",
     "text": [
      "2023-03-11 17:04:06,923\tINFO worker.py:1544 -- Started a local Ray instance. View the dashboard at \u001b[1m\u001b[32m127.0.0.1:8265 \u001b[39m\u001b[22m\n"
     ]
    },
    {
     "data": {
      "text/html": [
       "<div>\n",
       "    <div style=\"margin-left: 50px;display: flex;flex-direction: row;align-items: center\">\n",
       "        <h3 style=\"color: var(--jp-ui-font-color0)\">Ray</h3>\n",
       "        <svg version=\"1.1\" id=\"ray\" width=\"3em\" viewBox=\"0 0 144.5 144.6\" style=\"margin-left: 3em;margin-right: 3em\">\n",
       "            <g id=\"layer-1\">\n",
       "                <path fill=\"#00a2e9\" class=\"st0\" d=\"M97.3,77.2c-3.8-1.1-6.2,0.9-8.3,5.1c-3.5,6.8-9.9,9.9-17.4,9.6S58,88.1,54.8,81.2c-1.4-3-3-4-6.3-4.1\n",
       "                    c-5.6-0.1-9.9,0.1-13.1,6.4c-3.8,7.6-13.6,10.2-21.8,7.6C5.2,88.4-0.4,80.5,0,71.7c0.1-8.4,5.7-15.8,13.8-18.2\n",
       "                    c8.4-2.6,17.5,0.7,22.3,8c1.3,1.9,1.3,5.2,3.6,5.6c3.9,0.6,8,0.2,12,0.2c1.8,0,1.9-1.6,2.4-2.8c3.5-7.8,9.7-11.8,18-11.9\n",
       "                    c8.2-0.1,14.4,3.9,17.8,11.4c1.3,2.8,2.9,3.6,5.7,3.3c1-0.1,2,0.1,3,0c2.8-0.5,6.4,1.7,8.1-2.7s-2.3-5.5-4.1-7.5\n",
       "                    c-5.1-5.7-10.9-10.8-16.1-16.3C84,38,81.9,37.1,78,38.3C66.7,42,56.2,35.7,53,24.1C50.3,14,57.3,2.8,67.7,0.5\n",
       "                    C78.4-2,89,4.7,91.5,15.3c0.1,0.3,0.1,0.5,0.2,0.8c0.7,3.4,0.7,6.9-0.8,9.8c-1.7,3.2-0.8,5,1.5,7.2c6.7,6.5,13.3,13,19.8,19.7\n",
       "                    c1.8,1.8,3,2.1,5.5,1.2c9.1-3.4,17.9-0.6,23.4,7c4.8,6.9,4.6,16.1-0.4,22.9c-5.4,7.2-14.2,9.9-23.1,6.5c-2.3-0.9-3.5-0.6-5.1,1.1\n",
       "                    c-6.7,6.9-13.6,13.7-20.5,20.4c-1.8,1.8-2.5,3.2-1.4,5.9c3.5,8.7,0.3,18.6-7.7,23.6c-7.9,5-18.2,3.8-24.8-2.9\n",
       "                    c-6.4-6.4-7.4-16.2-2.5-24.3c4.9-7.8,14.5-11,23.1-7.8c3,1.1,4.7,0.5,6.9-1.7C91.7,98.4,98,92.3,104.2,86c1.6-1.6,4.1-2.7,2.6-6.2\n",
       "                    c-1.4-3.3-3.8-2.5-6.2-2.6C99.8,77.2,98.9,77.2,97.3,77.2z M72.1,29.7c5.5,0.1,9.9-4.3,10-9.8c0-0.1,0-0.2,0-0.3\n",
       "                    C81.8,14,77,9.8,71.5,10.2c-5,0.3-9,4.2-9.3,9.2c-0.2,5.5,4,10.1,9.5,10.3C71.8,29.7,72,29.7,72.1,29.7z M72.3,62.3\n",
       "                    c-5.4-0.1-9.9,4.2-10.1,9.7c0,0.2,0,0.3,0,0.5c0.2,5.4,4.5,9.7,9.9,10c5.1,0.1,9.9-4.7,10.1-9.8c0.2-5.5-4-10-9.5-10.3\n",
       "                    C72.6,62.3,72.4,62.3,72.3,62.3z M115,72.5c0.1,5.4,4.5,9.7,9.8,9.9c5.6-0.2,10-4.8,10-10.4c-0.2-5.4-4.6-9.7-10-9.7\n",
       "                    c-5.3-0.1-9.8,4.2-9.9,9.5C115,72.1,115,72.3,115,72.5z M19.5,62.3c-5.4,0.1-9.8,4.4-10,9.8c-0.1,5.1,5.2,10.4,10.2,10.3\n",
       "                    c5.6-0.2,10-4.9,9.8-10.5c-0.1-5.4-4.5-9.7-9.9-9.6C19.6,62.3,19.5,62.3,19.5,62.3z M71.8,134.6c5.9,0.2,10.3-3.9,10.4-9.6\n",
       "                    c0.5-5.5-3.6-10.4-9.1-10.8c-5.5-0.5-10.4,3.6-10.8,9.1c0,0.5,0,0.9,0,1.4c-0.2,5.3,4,9.8,9.3,10\n",
       "                    C71.6,134.6,71.7,134.6,71.8,134.6z\"/>\n",
       "            </g>\n",
       "        </svg>\n",
       "        <table>\n",
       "            <tr>\n",
       "                <td style=\"text-align: left\"><b>Python version:</b></td>\n",
       "                <td style=\"text-align: left\"><b>3.9.13</b></td>\n",
       "            </tr>\n",
       "            <tr>\n",
       "                <td style=\"text-align: left\"><b>Ray version:</b></td>\n",
       "                <td style=\"text-align: left\"><b> 2.3.0</b></td>\n",
       "            </tr>\n",
       "            <tr>\n",
       "    <td style=\"text-align: left\"><b>Dashboard:</b></td>\n",
       "    <td style=\"text-align: left\"><b><a href=\"http://127.0.0.1:8265\" target=\"_blank\">http://127.0.0.1:8265</a></b></td>\n",
       "</tr>\n",
       "\n",
       "        </table>\n",
       "    </div>\n",
       "</div>\n"
      ],
      "text/plain": [
       "RayContext(dashboard_url='127.0.0.1:8265', python_version='3.9.13', ray_version='2.3.0', ray_commit='cf7a56b4b0b648c324722df7c99c168e92ff0b45', address_info={'node_ip_address': '127.0.0.1', 'raylet_ip_address': '127.0.0.1', 'redis_address': None, 'object_store_address': 'tcp://127.0.0.1:51600', 'raylet_socket_name': 'tcp://127.0.0.1:46298', 'webui_url': '127.0.0.1:8265', 'session_dir': 'C:\\\\Users\\\\WULING~1\\\\AppData\\\\Local\\\\Temp\\\\ray\\\\session_2023-03-11_17-04-04_115446_16964', 'metrics_export_port': 61191, 'gcs_address': '127.0.0.1:62580', 'address': '127.0.0.1:62580', 'dashboard_agent_listen_port': 52365, 'node_id': '8975f10ca77f16879cc67f6df47d2080a4eb6dca497b9377475df5a5'})"
      ]
     },
     "execution_count": 2,
     "metadata": {},
     "output_type": "execute_result"
    }
   ],
   "source": [
    "ray.init()"
   ]
  },
  {
   "cell_type": "code",
   "execution_count": 3,
   "metadata": {},
   "outputs": [],
   "source": [
    "dict_df = {}\n",
    "for root, dirs, files in os.walk(\"./datasets/CSI300/\"):\n",
    "    for file in files:\n",
    "        path = os.path.join(\"./datasets/CSI300/\", file)\n",
    "        df = pd.read_csv(path)\n",
    "        dict_df[path] = df"
   ]
  },
  {
   "cell_type": "code",
   "execution_count": 4,
   "metadata": {},
   "outputs": [],
   "source": [
    "i = 0\n",
    "list_tic = list(dict_df.keys())\n",
    "list_df = [dict_df[k] for k in list_tic]"
   ]
  },
  {
   "cell_type": "code",
   "execution_count": 5,
   "metadata": {},
   "outputs": [
    {
     "name": "stdout",
     "output_type": "stream",
     "text": [
      "0.9030076685093477\n"
     ]
    },
    {
     "data": {
      "text/plain": [
       "<AxesSubplot: ylabel='close_'>"
      ]
     },
     "execution_count": 5,
     "metadata": {},
     "output_type": "execute_result"
    },
    {
     "data": {
      "image/png": "[encoded data removed]",
      "text/plain": [
       "<Figure size 640x480 with 1 Axes>"
      ]
     },
     "metadata": {},
     "output_type": "display_data"
    }
   ],
   "source": [
    "df = list_df[0]\n",
    "df.rename(columns={\"close_\": \"close\", \"close\": \"close_\"}, inplace=True)\n",
    "print(np.log(df.close.iloc[-1]/df.close.iloc[0]))\n",
    "sns.lineplot(df.close)"
   ]
  },
  {
   "cell_type": "code",
   "execution_count": 6,
   "metadata": {},
   "outputs": [],
   "source": [
    "test_start = '2017-01-01'\n",
    "trade_start = '2020-01-01'\n",
    "test_start = pd.to_datetime(test_start, format='%Y-%m-%d')\n",
    "trade_start = pd.to_datetime(trade_start, format='%Y-%m-%d')\n",
    "\n",
    "df.date = pd.to_datetime(df.date, format='%Y-%m-%d')\n",
    "df_train = df.loc[df.date < test_start].sort_index(ascending=True).copy()\n",
    "df_test = df.loc[(df.date >= test_start) & (df.date < trade_start)].sort_index(ascending=True).copy()\n",
    "df_trade = df.loc[df.date >= trade_start].sort_index(ascending=True).copy()"
   ]
  },
  {
   "cell_type": "code",
   "execution_count": 7,
   "metadata": {},
   "outputs": [
    {
     "name": "stdout",
     "output_type": "stream",
     "text": [
      "-0.003613726446537048\n"
     ]
    },
    {
     "data": {
      "text/plain": [
       "<AxesSubplot: ylabel='close'>"
      ]
     },
     "execution_count": 7,
     "metadata": {},
     "output_type": "execute_result"
    },
    {
     "data": {
      "image/png": "[encoded data removed]",
      "text/plain": [
       "<Figure size 640x480 with 1 Axes>"
      ]
     },
     "metadata": {},
     "output_type": "display_data"
    }
   ],
   "source": [
    "print(np.log(df_train.close.iloc[-1]/df_train.close.iloc[0]))\n",
    "sns.lineplot(df_train.close)"
   ]
  },
  {
   "cell_type": "code",
   "execution_count": 17,
   "metadata": {},
   "outputs": [],
   "source": [
    "class MyCallbacks(DefaultCallbacks):\n",
    "    def __init__(self, legacy_callbacks_dict: Dict[str, callable] = None):\n",
    "        self._eval_counter = 0\n",
    "        self._train_counter = 0\n",
    "        super().__init__(legacy_callbacks_dict)\n",
    "\n",
    "    def on_episode_end(\n",
    "        self,\n",
    "        *,\n",
    "        worker: RolloutWorker,\n",
    "        base_env: BaseEnv,\n",
    "        policies: Dict[str, Policy],\n",
    "        episode: EpisodeV2,\n",
    "        env_index: int,\n",
    "        **kwargs\n",
    "    ):\n",
    "        env = base_env.get_sub_environments()[0]\n",
    "\n",
    "        episode.custom_metrics[\"total_trading\"] = env.total_trading\n",
    "        episode.custom_metrics[\"success_rate\"] = env.success_trade / env.total_trading\n",
    "        episode.custom_metrics[\"log-ret\"] = np.log(env.asset_memory[-1] / env.asset_memory[0])\n",
    "        # episode.hist_data[\"action_memory\"] = env.action_memory\n",
    "        # episode.hist_data[\"asset_memory\"] = env.asset_memory\n",
    "\n",
    "        df = pd.DataFrame(\n",
    "            data={\n",
    "            \"date\": env.date,\n",
    "            \"prices\": env.prices,\n",
    "            \"action\": [1] + env.action_memory,\n",
    "            \"asset\": env.asset_memory\n",
    "            }\n",
    "        )\n",
    "        df.loc[df.action == 1, \"action\"] = np.nan\n",
    "        fig, ax = plt.subplots()\n",
    "        sns.lineplot(x=df.date, y=df.prices, ax=ax)\n",
    "        # plot buying action\n",
    "        sns.scatterplot(\n",
    "            x=df.date[df.action == 0], \n",
    "            y=df.prices[df.action == 0],  \n",
    "            markers=\"^\", \n",
    "            ax=ax\n",
    "        )\n",
    "        # plot selling action\n",
    "        sns.scatterplot(\n",
    "            x=df.date[df.action == 2], \n",
    "            y=df.prices[df.action == 2], \n",
    "            markers=\"v\", \n",
    "            ax=ax\n",
    "        )\n",
    "\n",
    "        in_eval =  worker.policy_config[\"in_evaluation\"]\n",
    "        dqn_type = worker.policy_config[\"model\"][\"custom_model_config\"] [\"type\"]\n",
    "        if in_eval:\n",
    "            fig.savefig(f\"./{dqn_type}_{self._eval_counter}_{episode.episode_id:05d}.png\")\n",
    "            self._eval_counter += 1\n",
    "        else:\n",
    "            if self._train_counter % 10 == 0:\n",
    "                fig.savefig(f\"./{dqn_type}_{self._train_counter}_{episode.episode_id:05d}.png\")\n",
    "            self._train_counter += 1"
   ]
  },
  {
   "cell_type": "code",
   "execution_count": 18,
   "metadata": {},
   "outputs": [],
   "source": [
    "param_space = {\n",
    "    \"framework\": \"torch\",\n",
    "    \"env\": \"SingleStockTrading\",\n",
    "    \"disable_env_checking\": True,\n",
    "    \"env_config\": {\n",
    "        \"df\": df_train,\n",
    "        # \"verbose\": True,\n",
    "    },\n",
    "\n",
    "    # \"num_workers\": 5,\n",
    "    # \"num_envs_per_worker\": 10,\n",
    "    # \"num_cpus_per_worker\": 1,\n",
    "\n",
    "    \"model\": {\n",
    "        \"custom_model_config\": {\n",
    "            \"type\": tune.grid_search([\"dqn\", \"iqn\", \"qrdqn\", \"cqn\"]) ,\n",
    "            \"vmin\": -10,\n",
    "            \"vmax\": 10,\n",
    "            \"lstm_dim\": 64,\n",
    "            \"net_arch\": [64],\n",
    "            \"action_mask_fn\": SingleStockTradingEnv.action_mask_fn,\n",
    "            \"num_atoms\": 50,\n",
    "            \"cos_embedding_dim\": 64,\n",
    "            \"risk_distortion_measure\": None,\n",
    "        }\n",
    "    },\n",
    "\n",
    "    #\"min_sample_timesteps_per_iteration\": 64,\n",
    "    \"min_train_timesteps_per_iteration\": 64,\n",
    "    \n",
    "    \"exploration_config\": {\n",
    "            \"type\": \"EpsilonGreedy\",\n",
    "            \"initial_epsilon\": 1.0,\n",
    "            \"final_epsilon\": 0.02,\n",
    "            \"epsilon_timesteps\": 10000,\n",
    "    },\n",
    "    \"callbacks\": MyCallbacks,\n",
    "\n",
    "    \"evaluation_interval\": 3,\n",
    "    \"evaluation_duration\": 1,\n",
    "    \"evaluation_duration_unit\": \"episodes\",\n",
    "    \"evaluation_num_workers\": 1,\n",
    "    \"evaluation_config\": {\n",
    "        \"explore\": False,\n",
    "        \"env_config\": {\n",
    "            \"df\": df_test,\n",
    "        },\n",
    "    }\n",
    "}"
   ]
  },
  {
   "cell_type": "code",
   "execution_count": 19,
   "metadata": {},
   "outputs": [
    {
     "data": {
      "text/html": [
       "<div class=\"tuneStatus\">\n",
       "  <div style=\"display: flex;flex-direction: row\">\n",
       "    <div style=\"display: flex;flex-direction: column;\">\n",
       "      <h3>Tune Status</h3>\n",
       "      <table>\n",
       "<tbody>\n",
       "<tr><td>Current time:</td><td>2023-03-11 17:54:15</td></tr>\n",
       "<tr><td>Running for: </td><td>00:00:11.22        </td></tr>\n",
       "<tr><td>Memory:      </td><td>8.9/15.4 GiB       </td></tr>\n",
       "</tbody>\n",
       "</table>\n",
       "    </div>\n",
       "    <div class=\"vDivider\"></div>\n",
       "    <div class=\"systemInfo\">\n",
       "      <h3>System Info</h3>\n",
       "      Using FIFO scheduling algorithm.<br>Resources requested: 2.0/16 CPUs, 0/0 GPUs, 0.0/4.42 GiB heap, 0.0/2.21 GiB objects\n",
       "    </div>\n",
       "    \n",
       "  </div>\n",
       "  <div class=\"hDivider\"></div>\n",
       "  <div class=\"trialStatus\">\n",
       "    <h3>Trial Status</h3>\n",
       "    <table>\n",
       "<thead>\n",
       "<tr><th>Trial name                          </th><th>status  </th><th>loc            </th><th>model/custom_model_c\n",
       "onfig/type      </th></tr>\n",
       "</thead>\n",
       "<tbody>\n",
       "<tr><td>MyDQN_SingleStockTrading_a8457_00000</td><td>RUNNING </td><td>127.0.0.1:17236</td><td>dqn  </td></tr>\n",
       "<tr><td>MyDQN_SingleStockTrading_a8457_00001</td><td>PENDING </td><td>               </td><td>iqn  </td></tr>\n",
       "<tr><td>MyDQN_SingleStockTrading_a8457_00002</td><td>PENDING </td><td>               </td><td>qrdqn</td></tr>\n",
       "<tr><td>MyDQN_SingleStockTrading_a8457_00003</td><td>PENDING </td><td>               </td><td>cqn  </td></tr>\n",
       "</tbody>\n",
       "</table>\n",
       "  </div>\n",
       "</div>\n",
       "<style>\n",
       ".tuneStatus {\n",
       "  color: var(--jp-ui-font-color1);\n",
       "}\n",
       ".tuneStatus .systemInfo {\n",
       "  display: flex;\n",
       "  flex-direction: column;\n",
       "}\n",
       ".tuneStatus td {\n",
       "  white-space: nowrap;\n",
       "}\n",
       ".tuneStatus .trialStatus {\n",
       "  display: flex;\n",
       "  flex-direction: column;\n",
       "}\n",
       ".tuneStatus h3 {\n",
       "  font-weight: bold;\n",
       "}\n",
       ".tuneStatus .hDivider {\n",
       "  border-bottom-width: var(--jp-border-width);\n",
       "  border-bottom-color: var(--jp-border-color0);\n",
       "  border-bottom-style: solid;\n",
       "}\n",
       ".tuneStatus .vDivider {\n",
       "  border-left-width: var(--jp-border-width);\n",
       "  border-left-color: var(--jp-border-color0);\n",
       "  border-left-style: solid;\n",
       "  margin: 0.5em 1em 0.5em 1em;\n",
       "}\n",
       "</style>\n"
      ],
      "text/plain": [
       "<IPython.core.display.HTML object>"
      ]
     },
     "metadata": {},
     "output_type": "display_data"
    },
    {
     "name": "stderr",
     "output_type": "stream",
     "text": [
      "\u001b[2m\u001b[36m(MyDQN pid=17236)\u001b[0m 2023-03-11 17:54:09,770\tWARNING algorithm_config.py:596 -- Cannot create MyDQNConfig from given `config_dict`! Property __stdout_file__ not supported.\n",
      "\u001b[2m\u001b[36m(MyDQN pid=17236)\u001b[0m 2023-03-11 17:54:10,109\tINFO algorithm.py:506 -- Current log_level is WARN. For more information, set 'log_level': 'INFO' / 'DEBUG' or use the -v and -vv flags.\n",
      "\u001b[2m\u001b[36m(MyDQN pid=17236)\u001b[0m 2023-03-11 17:54:15,643\tWARNING util.py:67 -- Install gputil for GPU system monitoring.\n"
     ]
    },
    {
     "name": "stdout",
     "output_type": "stream",
     "text": [
      "\u001b[2m\u001b[36m(MyDQN pid=17236)\u001b[0m episode 435125245854515230 (env-idx=0) started.\n"
     ]
    },
    {
     "name": "stderr",
     "output_type": "stream",
     "text": [
      "\u001b[2m\u001b[36m(MyDQN pid=8616)\u001b[0m 2023-03-11 17:54:20,838\tWARNING algorithm_config.py:596 -- Cannot create MyDQNConfig from given `config_dict`! Property __stdout_file__ not supported.\n",
      "\u001b[2m\u001b[36m(MyDQN pid=8616)\u001b[0m 2023-03-11 17:54:21,189\tINFO algorithm.py:506 -- Current log_level is WARN. For more information, set 'log_level': 'INFO' / 'DEBUG' or use the -v and -vv flags.\n",
      "\u001b[2m\u001b[36m(MyDQN pid=8616)\u001b[0m 2023-03-11 17:54:26,528\tWARNING util.py:67 -- Install gputil for GPU system monitoring.\n"
     ]
    },
    {
     "name": "stdout",
     "output_type": "stream",
     "text": [
      "\u001b[2m\u001b[36m(MyDQN pid=8616)\u001b[0m episode 100811645488580798 (env-idx=0) started.\n"
     ]
    },
    {
     "name": "stderr",
     "output_type": "stream",
     "text": [
      "\u001b[2m\u001b[36m(MyDQN pid=13560)\u001b[0m 2023-03-11 17:54:32,476\tWARNING algorithm_config.py:596 -- Cannot create MyDQNConfig from given `config_dict`! Property __stdout_file__ not supported.\n",
      "\u001b[2m\u001b[36m(MyDQN pid=13560)\u001b[0m 2023-03-11 17:54:32,914\tINFO algorithm.py:506 -- Current log_level is WARN. For more information, set 'log_level': 'INFO' / 'DEBUG' or use the -v and -vv flags.\n",
      "\u001b[2m\u001b[36m(MyDQN pid=13560)\u001b[0m 2023-03-11 17:54:39,149\tWARNING util.py:67 -- Install gputil for GPU system monitoring.\n"
     ]
    },
    {
     "name": "stdout",
     "output_type": "stream",
     "text": [
      "\u001b[2m\u001b[36m(MyDQN pid=13560)\u001b[0m episode 139742625196465270 (env-idx=0) started.\n"
     ]
    },
    {
     "name": "stderr",
     "output_type": "stream",
     "text": [
      "\u001b[2m\u001b[36m(MyDQN pid=12420)\u001b[0m 2023-03-11 17:54:45,766\tWARNING algorithm_config.py:596 -- Cannot create MyDQNConfig from given `config_dict`! Property __stdout_file__ not supported.\n",
      "\u001b[2m\u001b[36m(MyDQN pid=12420)\u001b[0m 2023-03-11 17:54:46,238\tINFO algorithm.py:506 -- Current log_level is WARN. For more information, set 'log_level': 'INFO' / 'DEBUG' or use the -v and -vv flags.\n",
      "\u001b[2m\u001b[36m(MyDQN pid=12420)\u001b[0m 2023-03-11 17:54:52,873\tWARNING util.py:67 -- Install gputil for GPU system monitoring.\n"
     ]
    },
    {
     "name": "stdout",
     "output_type": "stream",
     "text": [
      "\u001b[2m\u001b[36m(MyDQN pid=12420)\u001b[0m episode 822631912573603417 (env-idx=0) started.\n"
     ]
    },
    {
     "data": {
      "text/html": [
       "<div class=\"trialProgress\">\n",
       "  <h3>Trial Progress</h3>\n",
       "  <table>\n",
       "<thead>\n",
       "<tr><th>Trial name                          </th><th style=\"text-align: right;\">  agent_timesteps_total</th><th>connector_metrics  </th><th>counters                                                                                                                                                                                   </th><th>custom_metrics  </th><th>date               </th><th>done  </th><th style=\"text-align: right;\">  episode_len_mean</th><th>episode_media  </th><th style=\"text-align: right;\">  episode_reward_max</th><th style=\"text-align: right;\">  episode_reward_mean</th><th style=\"text-align: right;\">  episode_reward_min</th><th style=\"text-align: right;\">  episodes_this_iter</th><th style=\"text-align: right;\">  episodes_total</th><th>experiment_id                   </th><th>hostname       </th><th>info                                                                                                                                                                                                                                                                                                                                                                                                                                                                                                                                                                                                                                                                                        </th><th style=\"text-align: right;\">  iterations_since_restore</th><th>node_ip  </th><th style=\"text-align: right;\">  num_agent_steps_sampled</th><th style=\"text-align: right;\">  num_agent_steps_trained</th><th style=\"text-align: right;\">  num_env_steps_sampled</th><th style=\"text-align: right;\">  num_env_steps_sampled_this_iter</th><th style=\"text-align: right;\">  num_env_steps_trained</th><th style=\"text-align: right;\">  num_env_steps_trained_this_iter</th><th style=\"text-align: right;\">  num_faulty_episodes</th><th style=\"text-align: right;\">  num_healthy_workers</th><th style=\"text-align: right;\">  num_in_flight_async_reqs</th><th style=\"text-align: right;\">  num_remote_worker_restarts</th><th style=\"text-align: right;\">  num_steps_trained_this_iter</th><th>perf                                                                           </th><th style=\"text-align: right;\">  pid</th><th>policy_reward_max  </th><th>policy_reward_mean  </th><th>policy_reward_min  </th><th>sampler_perf  </th><th>sampler_results                                                                                                                                                                                                                                                                                                                                                                                </th><th style=\"text-align: right;\">  time_since_restore</th><th style=\"text-align: right;\">  time_this_iter_s</th><th style=\"text-align: right;\">  time_total_s</th><th>timers                                                                                                                                                                            </th><th style=\"text-align: right;\">  timestamp</th><th style=\"text-align: right;\">  timesteps_since_restore</th><th style=\"text-align: right;\">  timesteps_total</th><th style=\"text-align: right;\">  training_iteration</th><th>trial_id   </th><th style=\"text-align: right;\">  warmup_time</th></tr>\n",
       "</thead>\n",
       "<tbody>\n",
       "<tr><td>MyDQN_SingleStockTrading_a8457_00000</td><td style=\"text-align: right;\">                   1000</td><td>{}                 </td><td>{&#x27;num_env_steps_sampled&#x27;: 1000, &#x27;num_env_steps_trained&#x27;: 432000, &#x27;num_agent_steps_sampled&#x27;: 1000, &#x27;num_agent_steps_trained&#x27;: 432000, &#x27;last_target_update_ts&#x27;: 960, &#x27;num_target_updates&#x27;: 2}</td><td>{}              </td><td>2023-03-11_17-58-00</td><td>False </td><td style=\"text-align: right;\">               nan</td><td>{}             </td><td style=\"text-align: right;\">                 nan</td><td style=\"text-align: right;\">                  nan</td><td style=\"text-align: right;\">                 nan</td><td style=\"text-align: right;\">                   0</td><td style=\"text-align: right;\">               0</td><td>b4ac136558ee49f5ad0d98840c82eb62</td><td>LAPTOP-I039M4TT</td><td>{&#x27;learner&#x27;: {&#x27;default_policy&#x27;: {&#x27;learner_stats&#x27;: {&#x27;allreduce_latency&#x27;: 0.0, &#x27;grad_gnorm&#x27;: 0.0007555744959972799, &#x27;cur_lr&#x27;: 0.0005, &#x27;td_error&#x27;: 0.0014305411605164409, &#x27;loss&#x27;: 3.691210804390721e-05, &#x27;mean_r_t&#x27;: 0.0013481102650985122}, &#x27;td_error&#x27;: array([-0.02230478,  0.00359709,  0.00344414, -0.02091065,  0.02247088,\n",
       "       -0.01511721,  0.0057251 ,  0.02834805, -0.0341256 ,  0.02143698,\n",
       "       -0.02082125,  0.01568013, -0.0154226 ,  0.00204096,  0.00132917,\n",
       "       -0.0005003 , -0.01511477,  0.02269263, -0.01831581, -0.02219175,\n",
       "       -0.01969139,  0.01178581, -0.03680449, -0.00955194,  0.00341409,\n",
       "       -0.02046575,  0.03002336, -0.02291314, -0.04041409, -0.00945925,\n",
       "       -0.00640962, -0.01349852,  0.00792616, -0.007986  ,  0.01950988,\n",
       "        0.00951534, -0.02080503, -0.01009479, -0.03648606,  0.01950988,\n",
       "        0.02934336,  0.00585488,  0.04151585, -0.01269666,  0.01478572,\n",
       "       -0.00688336, -0.02837084, -0.0182506 ,  0.01601542, -0.02645152,\n",
       "       -0.02812828,  0.03692972,  0.02026509,  0.00421663, -0.02693218,\n",
       "        0.0057251 , -0.0308462 , -0.03874061, -0.02812828,  0.00812065,\n",
       "       -0.02693218,  0.01881223,  0.00064133,  0.00943324, -0.01496843,\n",
       "       -0.0364101 , -0.0053843 , -0.03552219, -0.00026168, -0.03311897,\n",
       "        0.01094511,  0.03039365, -0.02413837, -0.01372607, -0.03319515,\n",
       "        0.0404461 ,  0.01957488,  0.02443002, -0.01371682,  0.01971385,\n",
       "        0.0046138 ,  0.02828231, -0.00870254, -0.03283859,  0.03559307,\n",
       "        0.01250854, -0.04957896, -0.04751589,  0.03559307, -0.02225156,\n",
       "       -0.00165937, -0.00901578, -0.0005003 ,  0.01569264, -0.0341256 ,\n",
       "        0.00457927,  0.01921613, -0.03424275, -0.02410403, -0.03557526,\n",
       "       -0.02119169, -0.00286509, -0.02184153, -0.03295686, -0.01455633,\n",
       "        0.01388233,  0.01330878, -0.01517172, -0.01236582,  0.04138018,\n",
       "       -0.03369009,  0.01568013,  0.02908424,  0.03319237,  0.01552922,\n",
       "        0.00049303,  0.01900725,  0.01388233, -0.02572414, -0.01985423,\n",
       "       -0.0320105 , -0.02849899, -0.01294071,  0.00867769, -0.02368199,\n",
       "        0.01489078, -0.01476062, -0.01111511,  0.11877063, -0.00908519,\n",
       "       -0.02082125, -0.03225379, -0.001651  ,  0.00054984,  0.03280113,\n",
       "       -0.03011844,  0.01748791, -0.02690594, -0.02040114,  0.01155518,\n",
       "        0.01671413, -0.02829688, -0.00329457, -0.04656632, -0.01107843,\n",
       "       -0.01898162,  0.01977289, -0.01107843, -0.037762  ,  0.03280113,\n",
       "       -0.01536241, -0.03350449,  0.0033872 ,  0.01454304,  0.01478572,\n",
       "        0.0800783 , -0.00956389,  0.00987808, -0.01107843, -0.02014465,\n",
       "       -0.0098731 , -0.00659866,  0.01082133,  0.02012831, -0.00124285,\n",
       "       -0.0634836 ,  0.02528121,  0.03298308, -0.01538195,  0.02472747,\n",
       "        0.02012831,  0.01977289, -0.01536871, -0.01816335, -0.03903795,\n",
       "       -0.01349852, -0.00908519,  0.01601542, -0.01407209, -0.01817986,\n",
       "       -0.02227713,  0.0800783 ,  0.0522876 ,  0.11877063, -0.01518704,\n",
       "       -0.01185287, -0.02690594, -0.01359509,  0.01083664, -0.04960389,\n",
       "        0.00064133, -0.01569016, -0.01440199, -0.0053843 ,  0.00365861,\n",
       "       -0.03552219, -0.02359043, -0.0046577 ,  0.02440571,  0.01542611,\n",
       "        0.00868379, -0.02456142, -0.03903795,  0.02161092,  0.01886602,\n",
       "        0.02018879, -0.02836616, -0.02079637, -0.00124285, -0.0223606 ,\n",
       "       -0.00899727,  0.02232718, -0.01640273, -0.05543885, -0.03253742,\n",
       "       -0.01453171,  0.01900725, -0.03295686,  0.03298308,  0.04145825,\n",
       "       -0.05543885,  0.01175674, -0.01200337,  0.03497962,  0.01022737,\n",
       "       -0.02031932, -0.00490917, -0.01058288,  0.00978911, -0.01559195,\n",
       "       -0.03350449, -0.03131239,  0.00639665,  0.18390176, -0.01639335,\n",
       "        0.00792931, -0.01111511,  0.02908176, -0.0175313 ,  0.03319237,\n",
       "        0.02175956,  0.05230124, -0.00899727,  0.00274239,  0.03280113,\n",
       "       -0.0190364 , -0.01111511,  0.01873477, -0.00829426,  0.04518764,\n",
       "        0.03692972,  0.04151585,  0.11877063, -0.00989444, -0.01657265,\n",
       "        0.01644641, -0.02481378, -0.01816259, -0.03411122, -0.01236582,\n",
       "       -0.02172324,  0.03212687, -0.01074311, -0.01569016,  0.08910298,\n",
       "       -0.01287439, -0.00532012,  0.01667463, -0.01382959,  0.00755978,\n",
       "       -0.00111804,  0.01252155, -0.01817986,  0.0800783 , -0.01439451,\n",
       "       -0.00095644, -0.01442567,  0.00984031,  0.01239677,  0.00030584,\n",
       "        0.00764089,  0.02929115, -0.00870924,  0.01296182, -0.03648606,\n",
       "       -0.01440199, -0.01558563,  0.01997662,  0.0213611 ,  0.01978157,\n",
       "       -0.00505788,  0.00449139,  0.03319237, -0.02837084, -0.0172606 ,\n",
       "       -0.01418784, -0.0308462 ,  0.02908424, -0.01455633, -0.04957896,\n",
       "        0.00601918,  0.02411316, -0.01559195,  0.0800783 ,  0.02381729,\n",
       "        0.01330878,  0.00812065,  0.01770434, -0.01947413,  0.0800783 ,\n",
       "       -0.02977821,  0.03039365,  0.02175862, -0.01162624,  0.04894158,\n",
       "        0.00943324, -0.01831581, -0.0085919 , -0.02230478, -0.0045673 ,\n",
       "        0.03319237,  0.03298308,  0.01405954,  0.01165585,  0.01878622,\n",
       "       -0.0320105 ,  0.01973103, -0.01186115, -0.01435141,  0.0522876 ,\n",
       "       -0.00345593, -0.03417432, -0.01221041, -0.00812325,  0.01770434,\n",
       "        0.02872452,  0.18390176, -0.0084633 , -0.00532012,  0.01405954,\n",
       "       -0.00659866,  0.03319237,  0.00815392, -0.07553872,  0.01454304,\n",
       "       -0.01162624, -0.01926392,  0.01434267,  0.02906403, -0.00511543,\n",
       "        0.01000596, -0.02186336,  0.00664311, -0.01038874,  0.01822033,\n",
       "        0.02934336, -0.0202536 ,  0.03908812,  0.03229151, -0.00828181,\n",
       "        0.01998247,  0.01502005,  0.01800658,  0.04518764, -0.00091496,\n",
       "       -0.00026168, -0.00623077,  0.02082684,  0.04160698, -0.03560186,\n",
       "        0.04518764, -0.0308462 , -0.01407209, -0.00220887, -0.02822529,\n",
       "        0.01252155, -0.03283859, -0.001651  ,  0.18390176, -0.0320105 ,\n",
       "        0.01266712,  0.02934336,  0.0029848 , -0.02177215,  0.02528121,\n",
       "        0.01971385,  0.01083664, -0.01108455,  0.01469974,  0.00669673,\n",
       "        0.08910298, -0.01440199,  0.02232718, -0.02031932, -0.02270829,\n",
       "       -0.02481378,  0.01667463,  0.00868379, -0.01200337, -0.0182506 ,\n",
       "       -0.03350449,  0.01978157,  0.01607741, -0.00615967, -0.03347343,\n",
       "        0.01957488, -0.01642287, -0.02836616, -0.07502336,  0.01957488,\n",
       "        0.04559155, -0.01306978,  0.00614301, -0.02291314, -0.03350449,\n",
       "        0.03170986,  0.00421377,  0.0057251 ,  0.01132821, -0.0634836 ,\n",
       "       -0.02350429,  0.00341409, -0.01098529,  0.02347887, -0.01225978,\n",
       "       -0.02093594, -0.00659866,  0.00957014, -0.01816335,  0.02908176,\n",
       "       -0.01009479,  0.02415441,  0.0213611 ,  0.02143698, -0.03347343,\n",
       "        0.00664311,  0.00602597,  0.0800783 , -0.01476062,  0.03280113,\n",
       "       -0.01637931,  0.02082361,  0.0116267 , -0.0634836 , -0.0005322 ,\n",
       "       -0.03549057, -0.02230478,  0.02516117,  0.01454304, -0.01600042,\n",
       "       -0.0341256 ,  0.03692972, -0.02965141, -0.00365331,  0.02848791,\n",
       "        0.08910298,  0.01997662, -0.01056606, -0.03648606,  0.01142143,\n",
       "        0.00609669, -0.00526921, -0.02443824, -0.01129816, -0.03549057,\n",
       "        0.03559307, -0.02247475, -0.007986  ,  0.01142143,  0.18390176,\n",
       "       -0.02481378, -0.02349586, -0.02359043,  0.0108827 , -0.01569017,\n",
       "        0.02775292,  0.04145902, -0.0167703 , -0.0166438 ,  0.03141124],\n",
       "      dtype=float32), &#x27;mean_td_error&#x27;: 0.0014305411605164409, &#x27;model&#x27;: {}, &#x27;custom_metrics&#x27;: {}, &#x27;num_agent_steps_trained&#x27;: 480.0, &#x27;num_grad_updates_lifetime&#x27;: 900.0, &#x27;diff_num_grad_updates_vs_sampler_policy&#x27;: 431.6875}}, &#x27;num_env_steps_sampled&#x27;: 1000, &#x27;num_env_steps_trained&#x27;: 432000, &#x27;num_agent_steps_sampled&#x27;: 1000, &#x27;num_agent_steps_trained&#x27;: 432000, &#x27;last_target_update_ts&#x27;: 960, &#x27;num_target_updates&#x27;: 2}                                                                                                                                                                                                                                                                                                                                                                                                                                                                                                                                                                                                                                                                                             </td><td style=\"text-align: right;\">                         1</td><td>127.0.0.1</td><td style=\"text-align: right;\">                     1000</td><td style=\"text-align: right;\">                   432000</td><td style=\"text-align: right;\">                   1000</td><td style=\"text-align: right;\">                             1000</td><td style=\"text-align: right;\">                 432000</td><td style=\"text-align: right;\">                           432000</td><td style=\"text-align: right;\">                    0</td><td style=\"text-align: right;\">                    0</td><td style=\"text-align: right;\">                         0</td><td style=\"text-align: right;\">                           0</td><td style=\"text-align: right;\">                       432000</td><td>{&#x27;cpu_util_percent&#x27;: 29.804530744336564, &#x27;ram_util_percent&#x27;: 67.47961165048542}</td><td style=\"text-align: right;\">17236</td><td>{}                 </td><td>{}                  </td><td>{}                 </td><td>{}            </td><td>{&#x27;episode_reward_max&#x27;: nan, &#x27;episode_reward_min&#x27;: nan, &#x27;episode_reward_mean&#x27;: nan, &#x27;episode_len_mean&#x27;: nan, &#x27;episode_media&#x27;: {}, &#x27;episodes_this_iter&#x27;: 0, &#x27;policy_reward_min&#x27;: {}, &#x27;policy_reward_max&#x27;: {}, &#x27;policy_reward_mean&#x27;: {}, &#x27;custom_metrics&#x27;: {}, &#x27;hist_stats&#x27;: {&#x27;episode_reward&#x27;: [], &#x27;episode_lengths&#x27;: []}, &#x27;sampler_perf&#x27;: {}, &#x27;num_faulty_episodes&#x27;: 0, &#x27;connector_metrics&#x27;: {}}</td><td style=\"text-align: right;\">             224.921</td><td style=\"text-align: right;\">           224.921</td><td style=\"text-align: right;\">       224.921</td><td>{&#x27;training_iteration_time_ms&#x27;: 257.69, &#x27;load_time_ms&#x27;: 4.913, &#x27;load_throughput&#x27;: 97706.692, &#x27;learn_time_ms&#x27;: 13.33, &#x27;learn_throughput&#x27;: 36010.144, &#x27;synch_weights_time_ms&#x27;: 0.301}</td><td style=\"text-align: right;\"> 1678528680</td><td style=\"text-align: right;\">                        0</td><td style=\"text-align: right;\">             1000</td><td style=\"text-align: right;\">                   1</td><td>a8457_00000</td><td style=\"text-align: right;\">      5.56237</td></tr>\n",
       "<tr><td>MyDQN_SingleStockTrading_a8457_00002</td><td style=\"text-align: right;\">                   1000</td><td>{}                 </td><td>{&#x27;num_env_steps_sampled&#x27;: 1000, &#x27;num_env_steps_trained&#x27;: 432000, &#x27;num_agent_steps_sampled&#x27;: 1000, &#x27;num_agent_steps_trained&#x27;: 432000, &#x27;last_target_update_ts&#x27;: 960, &#x27;num_target_updates&#x27;: 2}</td><td>{}              </td><td>2023-03-11_17-58-18</td><td>False </td><td style=\"text-align: right;\">               nan</td><td>{}             </td><td style=\"text-align: right;\">                 nan</td><td style=\"text-align: right;\">                  nan</td><td style=\"text-align: right;\">                 nan</td><td style=\"text-align: right;\">                   0</td><td style=\"text-align: right;\">               0</td><td>578702b9d6a944d7834ee5ecd74cb1fc</td><td>LAPTOP-I039M4TT</td><td>{&#x27;learner&#x27;: {&#x27;default_policy&#x27;: {&#x27;learner_stats&#x27;: {&#x27;allreduce_latency&#x27;: 0.0, &#x27;grad_gnorm&#x27;: 0.0126855643466115, &#x27;cur_lr&#x27;: 0.0005, &#x27;td_error&#x27;: 0.034031983464956284, &#x27;loss&#x27;: 0.0056356699205935, &#x27;mean_r_t&#x27;: -0.003497280180454254}, &#x27;td_error&#x27;: array([0.03403198], dtype=float32), &#x27;mean_td_error&#x27;: 0.034031983464956284, &#x27;model&#x27;: {}, &#x27;custom_metrics&#x27;: {}, &#x27;num_agent_steps_trained&#x27;: 480.0, &#x27;num_grad_updates_lifetime&#x27;: 900.0, &#x27;diff_num_grad_updates_vs_sampler_policy&#x27;: 380.8979166666667}}, &#x27;num_env_steps_sampled&#x27;: 1000, &#x27;num_env_steps_trained&#x27;: 432000, &#x27;num_agent_steps_sampled&#x27;: 1000, &#x27;num_agent_steps_trained&#x27;: 432000, &#x27;last_target_update_ts&#x27;: 960, &#x27;num_target_updates&#x27;: 2}</td><td style=\"text-align: right;\">                         1</td><td>127.0.0.1</td><td style=\"text-align: right;\">                     1000</td><td style=\"text-align: right;\">                   432000</td><td style=\"text-align: right;\">                   1000</td><td style=\"text-align: right;\">                             1000</td><td style=\"text-align: right;\">                 432000</td><td style=\"text-align: right;\">                           432000</td><td style=\"text-align: right;\">                    0</td><td style=\"text-align: right;\">                    0</td><td style=\"text-align: right;\">                         0</td><td style=\"text-align: right;\">                           0</td><td style=\"text-align: right;\">                       432000</td><td>{&#x27;cpu_util_percent&#x27;: 30.973927392739274, &#x27;ram_util_percent&#x27;: 68.16765676567657}</td><td style=\"text-align: right;\">13560</td><td>{}                 </td><td>{}                  </td><td>{}                 </td><td>{}            </td><td>{&#x27;episode_reward_max&#x27;: nan, &#x27;episode_reward_min&#x27;: nan, &#x27;episode_reward_mean&#x27;: nan, &#x27;episode_len_mean&#x27;: nan, &#x27;episode_media&#x27;: {}, &#x27;episodes_this_iter&#x27;: 0, &#x27;policy_reward_min&#x27;: {}, &#x27;policy_reward_max&#x27;: {}, &#x27;policy_reward_mean&#x27;: {}, &#x27;custom_metrics&#x27;: {}, &#x27;hist_stats&#x27;: {&#x27;episode_reward&#x27;: [], &#x27;episode_lengths&#x27;: []}, &#x27;sampler_perf&#x27;: {}, &#x27;num_faulty_episodes&#x27;: 0, &#x27;connector_metrics&#x27;: {}}</td><td style=\"text-align: right;\">             219.726</td><td style=\"text-align: right;\">           219.726</td><td style=\"text-align: right;\">       219.726</td><td>{&#x27;training_iteration_time_ms&#x27;: 255.062, &#x27;load_time_ms&#x27;: 5.0, &#x27;load_throughput&#x27;: 96001.007, &#x27;learn_time_ms&#x27;: 24.39, &#x27;learn_throughput&#x27;: 19680.288, &#x27;synch_weights_time_ms&#x27;: 0.0}   </td><td style=\"text-align: right;\"> 1678528698</td><td style=\"text-align: right;\">                        0</td><td style=\"text-align: right;\">             1000</td><td style=\"text-align: right;\">                   1</td><td>a8457_00002</td><td style=\"text-align: right;\">      6.25582</td></tr>\n",
       "</tbody>\n",
       "</table>\n",
       "</div>\n",
       "<style>\n",
       ".trialProgress {\n",
       "  display: flex;\n",
       "  flex-direction: column;\n",
       "  color: var(--jp-ui-font-color1);\n",
       "}\n",
       ".trialProgress h3 {\n",
       "  font-weight: bold;\n",
       "}\n",
       ".trialProgress td {\n",
       "  white-space: nowrap;\n",
       "}\n",
       "</style>\n"
      ],
      "text/plain": [
       "<IPython.core.display.HTML object>"
      ]
     },
     "metadata": {},
     "output_type": "display_data"
    },
    {
     "name": "stdout",
     "output_type": "stream",
     "text": [
      "\u001b[2m\u001b[36m(MyDQN pid=17236)\u001b[0m episode 671742324076359317 (env-idx=0) started.\n",
      "\u001b[2m\u001b[36m(MyDQN pid=13560)\u001b[0m episode 414245675165268908 (env-idx=0) started.\n",
      "\u001b[2m\u001b[36m(MyDQN pid=12420)\u001b[0m episode 500774624185898068 (env-idx=0) started.\n",
      "\u001b[2m\u001b[36m(RolloutWorker pid=16268)\u001b[0m episode 145046286120062270 (env-idx=0) started.\n",
      "\u001b[2m\u001b[36m(RolloutWorker pid=11520)\u001b[0m episode 260719357951389106 (env-idx=0) started.\n",
      "\u001b[2m\u001b[36m(MyDQN pid=13560)\u001b[0m episode 526073712302042177 (env-idx=0) started.\n",
      "\u001b[2m\u001b[36m(MyDQN pid=17236)\u001b[0m episode 667102545058646735 (env-idx=0) started.\n",
      "\u001b[2m\u001b[36m(MyDQN pid=8616)\u001b[0m episode 586940128166142939 (env-idx=0) started.\n",
      "\u001b[2m\u001b[36m(MyDQN pid=12420)\u001b[0m episode 895910011443515991 (env-idx=0) started.\n",
      "\u001b[2m\u001b[36m(RolloutWorker pid=11520)\u001b[0m episode 680805795107909726 (env-idx=0) started.\n",
      "\u001b[2m\u001b[36m(RolloutWorker pid=2016)\u001b[0m episode 210281337141440953 (env-idx=0) started.\n",
      "\u001b[2m\u001b[36m(MyDQN pid=13560)\u001b[0m episode 438521885231604387 (env-idx=0) started.\n",
      "\u001b[2m\u001b[36m(MyDQN pid=17236)\u001b[0m episode 97110569422319594 (env-idx=0) started.\n",
      "\u001b[2m\u001b[36m(MyDQN pid=12420)\u001b[0m episode 206587286157745614 (env-idx=0) started.\n",
      "\u001b[2m\u001b[36m(MyDQN pid=13560)\u001b[0m episode 209568039948587384 (env-idx=0) started.\n",
      "\u001b[2m\u001b[36m(MyDQN pid=17236)\u001b[0m episode 256960660013491900 (env-idx=0) started.\n",
      "\u001b[2m\u001b[36m(MyDQN pid=8616)\u001b[0m episode 619043711958916248 (env-idx=0) started.\n",
      "\u001b[2m\u001b[36m(MyDQN pid=12420)\u001b[0m episode 735680835389766375 (env-idx=0) started.\n",
      "\u001b[2m\u001b[36m(MyDQN pid=13560)\u001b[0m episode 962718762127174973 (env-idx=0) started.\n",
      "\u001b[2m\u001b[36m(MyDQN pid=17236)\u001b[0m episode 10257977340620277 (env-idx=0) started.\n",
      "\u001b[2m\u001b[36m(MyDQN pid=12420)\u001b[0m episode 740011381816225077 (env-idx=0) started.\n",
      "\u001b[2m\u001b[36m(MyDQN pid=13560)\u001b[0m episode 356435720115657011 (env-idx=0) started.\n",
      "\u001b[2m\u001b[36m(MyDQN pid=17236)\u001b[0m episode 552063909499348911 (env-idx=0) started.\n",
      "\u001b[2m\u001b[36m(MyDQN pid=8616)\u001b[0m episode 126200084490492459 (env-idx=0) started.\n",
      "\u001b[2m\u001b[36m(RolloutWorker pid=21232)\u001b[0m episode 827659342594269903 (env-idx=0) started.\n",
      "\u001b[2m\u001b[36m(MyDQN pid=12420)\u001b[0m episode 463843405871590420 (env-idx=0) started.\n",
      "\u001b[2m\u001b[36m(MyDQN pid=13560)\u001b[0m episode 638629106363402930 (env-idx=0) started.\n",
      "\u001b[2m\u001b[36m(MyDQN pid=17236)\u001b[0m episode 658591328153270964 (env-idx=0) started.\n",
      "\n",
      "\u001b[2m\u001b[36m(MyDQN pid=13560)\u001b[0m episode 672385524461447761 (env-idx=0) started.\n",
      "\u001b[2m\u001b[36m(MyDQN pid=12420)\u001b[0m episode 899787313572302680 (env-idx=0) started.\n",
      "\u001b[2m\u001b[36m(MyDQN pid=17236)\u001b[0m episode 661511670405212485 (env-idx=0) started.\n",
      "\u001b[2m\u001b[36m(MyDQN pid=8616)\u001b[0m episode 13293398316356453 (env-idx=0) started.\n",
      "\u001b[2m\u001b[36m(MyDQN pid=13560)\u001b[0m episode 618844575376166878 (env-idx=0) started.\n",
      "\u001b[2m\u001b[36m(MyDQN pid=12420)\u001b[0m episode 648223146315706057 (env-idx=0) started.\n",
      "\u001b[2m\u001b[36m(MyDQN pid=17236)\u001b[0m episode 252305365211904049 (env-idx=0) started.\n",
      "\u001b[2m\u001b[36m(MyDQN pid=12420)\u001b[0m episode 577548046043694572 (env-idx=0) started.\n",
      "\u001b[2m\u001b[36m(MyDQN pid=8616)\u001b[0m episode 704847429375080288 (env-idx=0) started.\n",
      "\u001b[2m\u001b[36m(MyDQN pid=17236)\u001b[0m episode 683106223516608793 (env-idx=0) started.\n",
      "\u001b[2m\u001b[36m(MyDQN pid=13560)\u001b[0m episode 247814829125962152 (env-idx=0) started.\n",
      "\n",
      "\u001b[2m\u001b[36m(MyDQN pid=17236)\u001b[0m episode 354714233768124892 (env-idx=0) started.\n",
      "\u001b[2m\u001b[36m(MyDQN pid=12420)\u001b[0m episode 772841139829092213 (env-idx=0) started.\n",
      "\u001b[2m\u001b[36m(MyDQN pid=13560)\u001b[0m episode 978868629837372541 (env-idx=0) started.\n",
      "\u001b[2m\u001b[36m(MyDQN pid=8616)\u001b[0m episode 354568901028238260 (env-idx=0) started.\n",
      "\u001b[2m\u001b[36m(MyDQN pid=17236)\u001b[0m episode 674351185227773535 (env-idx=0) started.\n",
      "\u001b[2m\u001b[36m(RolloutWorker pid=21232)\u001b[0m episode 862159059506498760 (env-idx=0) started.\n",
      "\u001b[2m\u001b[36m(MyDQN pid=12420)\u001b[0m episode 632831493939584392 (env-idx=0) started.\n",
      "\u001b[2m\u001b[36m(MyDQN pid=13560)\u001b[0m episode 49097263056809072 (env-idx=0) started.\n",
      "\u001b[2m\u001b[36m(MyDQN pid=17236)\u001b[0m episode 871839547889362391 (env-idx=0) started.\n",
      "\u001b[2m\u001b[36m(MyDQN pid=12420)\u001b[0m episode 228411010506253290 (env-idx=0) started.\n",
      "\u001b[2m\u001b[36m(MyDQN pid=13560)\u001b[0m episode 971296647935244808 (env-idx=0) started.\n",
      "\u001b[2m\u001b[36m(RolloutWorker pid=2016)\u001b[0m episode 9945570545155443 (env-idx=0) started.\n",
      "\u001b[2m\u001b[36m(RolloutWorker pid=21232)\u001b[0m episode 337461823413498031 (env-idx=0) started.\n",
      "\u001b[2m\u001b[36m(RolloutWorker pid=16268)\u001b[0m episode 732344912797894804 (env-idx=0) started.\n",
      "\u001b[2m\u001b[36m(MyDQN pid=8616)\u001b[0m episode 661160595836866497 (env-idx=0) started.\n",
      "\u001b[2m\u001b[36m(MyDQN pid=17236)\u001b[0m episode 208176318982846134 (env-idx=0) started.\n",
      "\u001b[2m\u001b[36m(MyDQN pid=12420)\u001b[0m episode 909876301413498996 (env-idx=0) started.\n",
      "\u001b[2m\u001b[36m(MyDQN pid=13560)\u001b[0m episode 916217357952071951 (env-idx=0) started.\n",
      "\u001b[2m\u001b[36m(MyDQN pid=17236)\u001b[0m episode 732829087714060183 (env-idx=0) started.\n",
      "\u001b[2m\u001b[36m(RolloutWorker pid=16268)\u001b[0m episode 1053462370497298 (env-idx=0) started.\n",
      "\u001b[2m\u001b[36m(MyDQN pid=12420)\u001b[0m episode 606206268453916409 (env-idx=0) started.\n",
      "\u001b[2m\u001b[36m(MyDQN pid=8616)\u001b[0m episode 197741158928388696 (env-idx=0) started.\n",
      "\u001b[2m\u001b[36m(MyDQN pid=17236)\u001b[0m episode 155990521483385322 (env-idx=0) started.\n",
      "\u001b[2m\u001b[36m(MyDQN pid=13560)\u001b[0m episode 712607622253180241 (env-idx=0) started.\n",
      "\u001b[2m\u001b[36m(MyDQN pid=12420)\u001b[0m episode 119350689908009358 (env-idx=0) started.\n",
      "\u001b[2m\u001b[36m(MyDQN pid=17236)\u001b[0m episode 427849972967392378 (env-idx=0) started.\n",
      "\u001b[2m\u001b[36m(MyDQN pid=13560)\u001b[0m episode 54231282999834296 (env-idx=0) started.\n",
      "\u001b[2m\u001b[36m(MyDQN pid=12420)\u001b[0m episode 732890853457126656 (env-idx=0) started.\n",
      "\u001b[2m\u001b[36m(MyDQN pid=8616)\u001b[0m episode 221672798557126454 (env-idx=0) started.\n",
      "\u001b[2m\u001b[36m(MyDQN pid=17236)\u001b[0m episode 812595736362565664 (env-idx=0) started.\n",
      "\u001b[2m\u001b[36m(RolloutWorker pid=21232)\u001b[0m episode 99605768313810238 (env-idx=0) started.\n",
      "\u001b[2m\u001b[36m(MyDQN pid=13560)\u001b[0m episode 235263847094080831 (env-idx=0) started.\n",
      "\u001b[2m\u001b[36m(MyDQN pid=12420)\u001b[0m episode 268193543437173613 (env-idx=0) started.\n",
      "\u001b[2m\u001b[36m(MyDQN pid=17236)\u001b[0m episode 913951135976600183 (env-idx=0) started.\n",
      "\u001b[2m\u001b[36m(MyDQN pid=13560)\u001b[0m episode 98877936042462826 (env-idx=0) started.\n",
      "\u001b[2m\u001b[36m(RolloutWorker pid=16268)\u001b[0m episode 13779958195229450 (env-idx=0) started.\n",
      "\u001b[2m\u001b[36m(RolloutWorker pid=21232)\u001b[0m episode 591585955198879310 (env-idx=0) started.\n",
      "\u001b[2m\u001b[36m(MyDQN pid=8616)\u001b[0m episode 138560751048833461 (env-idx=0) started.\n",
      "\u001b[2m\u001b[36m(MyDQN pid=12420)\u001b[0m episode 827210111281021577 (env-idx=0) started.\n",
      "\u001b[2m\u001b[36m(MyDQN pid=17236)\u001b[0m episode 361598443766875163 (env-idx=0) started.\n"
     ]
    },
    {
     "name": "stderr",
     "output_type": "stream",
     "text": [
      "\u001b[2m\u001b[36m(MyDQN pid=13560)\u001b[0m C:\\Users\\Wu Lingfeng\\AppData\\Local\\Temp\\ipykernel_16964\\1904496841.py:47: RuntimeWarning: More than 20 figures have been opened. Figures created through the pyplot interface (`matplotlib.pyplot.figure`) are retained until explicitly closed and may consume too much memory. (To control this warning, see the rcParam `figure.max_open_warning`). Consider using `matplotlib.pyplot.close()`.\n"
     ]
    },
    {
     "name": "stdout",
     "output_type": "stream",
     "text": [
      "\u001b[2m\u001b[36m(MyDQN pid=13560)\u001b[0m episode 843475483984740456 (env-idx=0) started.\n",
      "\u001b[2m\u001b[36m(MyDQN pid=12420)\u001b[0m episode 817536384048324608 (env-idx=0) started.\n"
     ]
    },
    {
     "name": "stderr",
     "output_type": "stream",
     "text": [
      "\u001b[2m\u001b[36m(MyDQN pid=17236)\u001b[0m C:\\Users\\Wu Lingfeng\\AppData\\Local\\Temp\\ipykernel_16964\\1904496841.py:47: RuntimeWarning: More than 20 figures have been opened. Figures created through the pyplot interface (`matplotlib.pyplot.figure`) are retained until explicitly closed and may consume too much memory. (To control this warning, see the rcParam `figure.max_open_warning`). Consider using `matplotlib.pyplot.close()`.\n"
     ]
    },
    {
     "name": "stdout",
     "output_type": "stream",
     "text": [
      "\u001b[2m\u001b[36m(MyDQN pid=17236)\u001b[0m episode 883893586044719511 (env-idx=0) started.\n",
      "\u001b[2m\u001b[36m(RolloutWorker pid=11520)\u001b[0m episode 514591509054339492 (env-idx=0) started.\n",
      "\u001b[2m\u001b[36m(MyDQN pid=13560)\u001b[0m episode 618148947926760429 (env-idx=0) started.\n",
      "\u001b[2m\u001b[36m(MyDQN pid=8616)\u001b[0m episode 757312821002724495 (env-idx=0) started.\n",
      "\u001b[2m\u001b[36m(MyDQN pid=12420)\u001b[0m episode 754631568830434245 (env-idx=0) started.\n",
      "\u001b[2m\u001b[36m(MyDQN pid=17236)\u001b[0m episode 458037872238285858 (env-idx=0) started.\n",
      "\u001b[2m\u001b[36m(MyDQN pid=13560)\u001b[0m episode 513761911743227491 (env-idx=0) started.\n",
      "\n"
     ]
    },
    {
     "name": "stderr",
     "output_type": "stream",
     "text": [
      "\u001b[2m\u001b[36m(MyDQN pid=12420)\u001b[0m C:\\Users\\Wu Lingfeng\\AppData\\Local\\Temp\\ipykernel_16964\\1904496841.py:47: RuntimeWarning: More than 20 figures have been opened. Figures created through the pyplot interface (`matplotlib.pyplot.figure`) are retained until explicitly closed and may consume too much memory. (To control this warning, see the rcParam `figure.max_open_warning`). Consider using `matplotlib.pyplot.close()`.\n"
     ]
    },
    {
     "name": "stdout",
     "output_type": "stream",
     "text": [
      "\u001b[2m\u001b[36m(MyDQN pid=12420)\u001b[0m episode 849923623525905386 (env-idx=0) started.\n",
      "\u001b[2m\u001b[36m(MyDQN pid=13560)\u001b[0m episode 759409800505015338 (env-idx=0) started.\n",
      "\u001b[2m\u001b[36m(MyDQN pid=8616)\u001b[0m episode 897163434297676231 (env-idx=0) started.\n",
      "\u001b[2m\u001b[36m(MyDQN pid=13560)\u001b[0m episode 222961508209136439 (env-idx=0) started.\n",
      "\u001b[2m\u001b[36m(MyDQN pid=17236)\u001b[0m episode 169811417178541387 (env-idx=0) started.\n",
      "\u001b[2m\u001b[36m(RolloutWorker pid=21232)\u001b[0m episode 952992818695265572 (env-idx=0) started.\n",
      "\u001b[2m\u001b[36m(MyDQN pid=12420)\u001b[0m episode 231879010308458207 (env-idx=0) started.\n",
      "\u001b[2m\u001b[36m(MyDQN pid=13560)\u001b[0m episode 594447640253636955 (env-idx=0) started.\n",
      "\u001b[2m\u001b[36m(MyDQN pid=17236)\u001b[0m episode 164622737439064607 (env-idx=0) started.\n"
     ]
    },
    {
     "name": "stderr",
     "output_type": "stream",
     "text": [
      "\u001b[2m\u001b[36m(MyDQN pid=13560)\u001b[0m 2023-03-11 22:05:51,525\tWARNING policy.py:126 -- Can not figure out a durable policy name for <class 'stocktradingv2.agent.mydqn.my_dqn_policy.MyDQNPolicy'>. You are probably trying to checkpoint a custom policy. Raw policy class may cause problems when the checkpoint needs to be loaded in the future. To fix this, make sure you add your custom policy in rllib.algorithms.registry.POLICIES.\n"
     ]
    }
   ],
   "source": [
    "tuner = tune.Tuner(\n",
    "    MyDQN, \n",
    "    param_space=param_space,\n",
    "    tune_config=tune.TuneConfig(num_samples=1),\n",
    "    run_config=air.RunConfig(\n",
    "        progress_reporter=JupyterNotebookReporter(),\n",
    "        stop={\n",
    "            \"episode_reward_mean\": 10,\n",
    "            \"timesteps_total\": 100000,\n",
    "        },\n",
    "        callbacks=[TBXLoggerCallback()],\n",
    "    )\n",
    ")\n",
    "results = tuner.fit()"
   ]
  },
  {
   "cell_type": "code",
   "execution_count": null,
   "metadata": {},
   "outputs": [],
   "source": [
    "result = results.get_best_result(metric=\"episode_reward_mean\", mode=\"max\")\n",
    "cp = result.best_checkpoints[0][0]\n",
    "algo = MyDQN.from_checkpoint(cp)"
   ]
  },
  {
   "cell_type": "code",
   "execution_count": null,
   "metadata": {},
   "outputs": [],
   "source": [
    "def get_envs(n_tickers: int = 10, seed=None) -> Tuple[MultiStockTradingEnv, MultiStockTradingEnv, MultiStockTradingEnv]:\n",
    "    assert n_tickers <= len(df_dict_train)\n",
    "\n",
    "    env_list = list()\n",
    "    random.seed(seed)\n",
    "    tic_list = random.sample(df_dict_train.keys(), n_tickers)\n",
    "    print('Sampled tickers: ', tic_list)\n",
    "    for _df_dict in [df_dict_train, df_dict_test, df_dict_trade]:\n",
    "        if len(_df_dict[tic_list[0]]) == 0:\n",
    "            env_list.append(None)\n",
    "        else:\n",
    "            _dfs = list()\n",
    "            for tic in tic_list:\n",
    "                _df = _df_dict[tic].copy()\n",
    "                _df['tic'] = tic\n",
    "                _dfs.append(_df)\n",
    "            _dfs = pd.concat(_dfs)\n",
    "            # drop dates that missing data\n",
    "            _dfs = _dfs.pivot_table(index=['date'], columns=['tic']).dropna().stack().reset_index()\n",
    "            _dfs.sort_values(['date', 'tic'], inplace=True)\n",
    "            _dfs.set_index(['date', 'tic'], inplace=True)\n",
    "            env_list.append(Monitor(MultiStockTradingEnv(_dfs, stack_frame=10)))\n",
    "    \n",
    "    return tuple(env_list)"
   ]
  }
 ],
 "metadata": {
  "kernelspec": {
   "display_name": "FTL",
   "language": "python",
   "name": "python3"
  },
  "language_info": {
   "codemirror_mode": {
    "name": "ipython",
    "version": 3
   },
   "file_extension": ".py",
   "mimetype": "text/x-python",
   "name": "python",
   "nbconvert_exporter": "python",
   "pygments_lexer": "ipython3",
   "version": "3.9.13"
  },
  "orig_nbformat": 4,
  "vscode": {
   "interpreter": {
    "hash": "2970689e78aef4c07a5052d9e555eb892e49096ed5628fc96d9893432af6893f"
   }
  }
 },
 "nbformat": 4,
 "nbformat_minor": 2
}
