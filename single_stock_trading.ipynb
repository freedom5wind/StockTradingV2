{
 "cells": [
  {
   "cell_type": "code",
   "execution_count": 1,
   "metadata": {},
   "outputs": [
    {
     "name": "stderr",
     "output_type": "stream",
     "text": [
      "c:\\ProgramData\\Miniconda3\\envs\\FTL\\lib\\site-packages\\tqdm\\auto.py:22: TqdmWarning: IProgress not found. Please update jupyter and ipywidgets. See https://ipywidgets.readthedocs.io/en/stable/user_install.html\n",
      "  from .autonotebook import tqdm as notebook_tqdm\n"
     ]
    }
   ],
   "source": [
    "import os\n",
    "from typing import Dict\n",
    "\n",
    "import numpy as np\n",
    "import pandas as pd\n",
    "import ray\n",
    "from ray import tune, air\n",
    "from ray.tune import JupyterNotebookReporter\n",
    "from ray.tune.logger import TBXLoggerCallback\n",
    "from ray.rllib.algorithms import AlgorithmConfig\n",
    "from ray.rllib.algorithms.callbacks import DefaultCallbacks\n",
    "from ray.rllib.env import BaseEnv\n",
    "from ray.rllib.evaluation import Episode, RolloutWorker\n",
    "from ray.rllib.evaluation.episode_v2 import EpisodeV2\n",
    "from ray.rllib.policy import Policy\n",
    "import seaborn as sns\n",
    "\n",
    "from stocktradingv2.agent.mydqn import MyDQNConfig, MyDQN\n",
    "import stocktradingv2.env.SingleStockTradingEnv\n",
    "from stocktradingv2.env.SingleStockTradingEnv import SingleStockTradingEnv"
   ]
  },
  {
   "cell_type": "code",
   "execution_count": 2,
   "metadata": {},
   "outputs": [
    {
     "name": "stderr",
     "output_type": "stream",
     "text": [
      "2023-03-05 16:37:47,024\tINFO worker.py:1544 -- Started a local Ray instance. View the dashboard at \u001b[1m\u001b[32m127.0.0.1:8265 \u001b[39m\u001b[22m\n"
     ]
    },
    {
     "data": {
      "text/html": [
       "<div>\n",
       "    <div style=\"margin-left: 50px;display: flex;flex-direction: row;align-items: center\">\n",
       "        <h3 style=\"color: var(--jp-ui-font-color0)\">Ray</h3>\n",
       "        <svg version=\"1.1\" id=\"ray\" width=\"3em\" viewBox=\"0 0 144.5 144.6\" style=\"margin-left: 3em;margin-right: 3em\">\n",
       "            <g id=\"layer-1\">\n",
       "                <path fill=\"#00a2e9\" class=\"st0\" d=\"M97.3,77.2c-3.8-1.1-6.2,0.9-8.3,5.1c-3.5,6.8-9.9,9.9-17.4,9.6S58,88.1,54.8,81.2c-1.4-3-3-4-6.3-4.1\n",
       "                    c-5.6-0.1-9.9,0.1-13.1,6.4c-3.8,7.6-13.6,10.2-21.8,7.6C5.2,88.4-0.4,80.5,0,71.7c0.1-8.4,5.7-15.8,13.8-18.2\n",
       "                    c8.4-2.6,17.5,0.7,22.3,8c1.3,1.9,1.3,5.2,3.6,5.6c3.9,0.6,8,0.2,12,0.2c1.8,0,1.9-1.6,2.4-2.8c3.5-7.8,9.7-11.8,18-11.9\n",
       "                    c8.2-0.1,14.4,3.9,17.8,11.4c1.3,2.8,2.9,3.6,5.7,3.3c1-0.1,2,0.1,3,0c2.8-0.5,6.4,1.7,8.1-2.7s-2.3-5.5-4.1-7.5\n",
       "                    c-5.1-5.7-10.9-10.8-16.1-16.3C84,38,81.9,37.1,78,38.3C66.7,42,56.2,35.7,53,24.1C50.3,14,57.3,2.8,67.7,0.5\n",
       "                    C78.4-2,89,4.7,91.5,15.3c0.1,0.3,0.1,0.5,0.2,0.8c0.7,3.4,0.7,6.9-0.8,9.8c-1.7,3.2-0.8,5,1.5,7.2c6.7,6.5,13.3,13,19.8,19.7\n",
       "                    c1.8,1.8,3,2.1,5.5,1.2c9.1-3.4,17.9-0.6,23.4,7c4.8,6.9,4.6,16.1-0.4,22.9c-5.4,7.2-14.2,9.9-23.1,6.5c-2.3-0.9-3.5-0.6-5.1,1.1\n",
       "                    c-6.7,6.9-13.6,13.7-20.5,20.4c-1.8,1.8-2.5,3.2-1.4,5.9c3.5,8.7,0.3,18.6-7.7,23.6c-7.9,5-18.2,3.8-24.8-2.9\n",
       "                    c-6.4-6.4-7.4-16.2-2.5-24.3c4.9-7.8,14.5-11,23.1-7.8c3,1.1,4.7,0.5,6.9-1.7C91.7,98.4,98,92.3,104.2,86c1.6-1.6,4.1-2.7,2.6-6.2\n",
       "                    c-1.4-3.3-3.8-2.5-6.2-2.6C99.8,77.2,98.9,77.2,97.3,77.2z M72.1,29.7c5.5,0.1,9.9-4.3,10-9.8c0-0.1,0-0.2,0-0.3\n",
       "                    C81.8,14,77,9.8,71.5,10.2c-5,0.3-9,4.2-9.3,9.2c-0.2,5.5,4,10.1,9.5,10.3C71.8,29.7,72,29.7,72.1,29.7z M72.3,62.3\n",
       "                    c-5.4-0.1-9.9,4.2-10.1,9.7c0,0.2,0,0.3,0,0.5c0.2,5.4,4.5,9.7,9.9,10c5.1,0.1,9.9-4.7,10.1-9.8c0.2-5.5-4-10-9.5-10.3\n",
       "                    C72.6,62.3,72.4,62.3,72.3,62.3z M115,72.5c0.1,5.4,4.5,9.7,9.8,9.9c5.6-0.2,10-4.8,10-10.4c-0.2-5.4-4.6-9.7-10-9.7\n",
       "                    c-5.3-0.1-9.8,4.2-9.9,9.5C115,72.1,115,72.3,115,72.5z M19.5,62.3c-5.4,0.1-9.8,4.4-10,9.8c-0.1,5.1,5.2,10.4,10.2,10.3\n",
       "                    c5.6-0.2,10-4.9,9.8-10.5c-0.1-5.4-4.5-9.7-9.9-9.6C19.6,62.3,19.5,62.3,19.5,62.3z M71.8,134.6c5.9,0.2,10.3-3.9,10.4-9.6\n",
       "                    c0.5-5.5-3.6-10.4-9.1-10.8c-5.5-0.5-10.4,3.6-10.8,9.1c0,0.5,0,0.9,0,1.4c-0.2,5.3,4,9.8,9.3,10\n",
       "                    C71.6,134.6,71.7,134.6,71.8,134.6z\"/>\n",
       "            </g>\n",
       "        </svg>\n",
       "        <table>\n",
       "            <tr>\n",
       "                <td style=\"text-align: left\"><b>Python version:</b></td>\n",
       "                <td style=\"text-align: left\"><b>3.9.13</b></td>\n",
       "            </tr>\n",
       "            <tr>\n",
       "                <td style=\"text-align: left\"><b>Ray version:</b></td>\n",
       "                <td style=\"text-align: left\"><b> 2.3.0</b></td>\n",
       "            </tr>\n",
       "            <tr>\n",
       "    <td style=\"text-align: left\"><b>Dashboard:</b></td>\n",
       "    <td style=\"text-align: left\"><b><a href=\"http://127.0.0.1:8265\" target=\"_blank\">http://127.0.0.1:8265</a></b></td>\n",
       "</tr>\n",
       "\n",
       "        </table>\n",
       "    </div>\n",
       "</div>\n"
      ],
      "text/plain": [
       "RayContext(dashboard_url='127.0.0.1:8265', python_version='3.9.13', ray_version='2.3.0', ray_commit='cf7a56b4b0b648c324722df7c99c168e92ff0b45', address_info={'node_ip_address': '127.0.0.1', 'raylet_ip_address': '127.0.0.1', 'redis_address': None, 'object_store_address': 'tcp://127.0.0.1:12154', 'raylet_socket_name': 'tcp://127.0.0.1:24814', 'webui_url': '127.0.0.1:8265', 'session_dir': 'C:\\\\Users\\\\WULING~1\\\\AppData\\\\Local\\\\Temp\\\\ray\\\\session_2023-03-05_16-37-43_085180_19788', 'metrics_export_port': 16270, 'gcs_address': '127.0.0.1:53792', 'address': '127.0.0.1:53792', 'dashboard_agent_listen_port': 52365, 'node_id': '417528715a1188372cd1278f50284231983f678dba87d50834f41943'})"
      ]
     },
     "execution_count": 2,
     "metadata": {},
     "output_type": "execute_result"
    }
   ],
   "source": [
    "ray.init()"
   ]
  },
  {
   "cell_type": "code",
   "execution_count": 3,
   "metadata": {},
   "outputs": [],
   "source": [
    "dict_df = {}\n",
    "for root, dirs, files in os.walk(\"./datasets/CSI300/\"):\n",
    "    for file in files:\n",
    "        path = os.path.join(\"./datasets/CSI300/\", file)\n",
    "        df = pd.read_csv(path)\n",
    "        dict_df[path] = df"
   ]
  },
  {
   "cell_type": "code",
   "execution_count": 4,
   "metadata": {},
   "outputs": [],
   "source": [
    "i = 0\n",
    "list_tic = list(dict_df.keys())\n",
    "list_df = [dict_df[k] for k in list_tic]"
   ]
  },
  {
   "cell_type": "code",
   "execution_count": 5,
   "metadata": {},
   "outputs": [
    {
     "name": "stdout",
     "output_type": "stream",
     "text": [
      "0.9030076685093477\n"
     ]
    },
    {
     "data": {
      "text/plain": [
       "<AxesSubplot: ylabel='close_'>"
      ]
     },
     "execution_count": 5,
     "metadata": {},
     "output_type": "execute_result"
    },
    {
     "data": {
      "image/png": "[encoded data removed]",
      "text/plain": [
       "<Figure size 640x480 with 1 Axes>"
      ]
     },
     "metadata": {},
     "output_type": "display_data"
    }
   ],
   "source": [
    "df = list_df[0]\n",
    "df.rename(columns={\"close_\": \"close\", \"close\": \"close_\"}, inplace=True)\n",
    "print(np.log(df.close.iloc[-1]/df.close.iloc[0]))\n",
    "sns.lineplot(df.close_)"
   ]
  },
  {
   "cell_type": "code",
   "execution_count": 6,
   "metadata": {},
   "outputs": [],
   "source": [
    "test_start = '2017-01-01'\n",
    "trade_start = '2020-01-01'\n",
    "test_start = pd.to_datetime(test_start, format='%Y-%m-%d')\n",
    "trade_start = pd.to_datetime(trade_start, format='%Y-%m-%d')\n",
    "\n",
    "df.date = pd.to_datetime(df.date, format='%Y-%m-%d')\n",
    "df_train = df.loc[df.date < test_start].sort_index(ascending=True).copy()\n",
    "df_test = df.loc[(df.date >= test_start) & (df.date < trade_start)].sort_index(ascending=True).copy()\n",
    "df_trade = df.loc[df.date >= trade_start].sort_index(ascending=True).copy()"
   ]
  },
  {
   "cell_type": "code",
   "execution_count": 7,
   "metadata": {},
   "outputs": [],
   "source": [
    "\n",
    "class MyCallbacks(DefaultCallbacks):\n",
    "    def on_episode_start(\n",
    "        self,\n",
    "        *,\n",
    "        worker: RolloutWorker,\n",
    "        base_env: BaseEnv,\n",
    "        policies: Dict[str, Policy],\n",
    "        episode: Episode,\n",
    "        env_index: int,\n",
    "        **kwargs\n",
    "    ):\n",
    "        # Make sure this episode has just been started (only initial obs\n",
    "        # logged so far).\n",
    "        assert episode.length <= 0, (\n",
    "            \"ERROR: `on_episode_start()` callback should be called right \"\n",
    "            \"after env reset!\"\n",
    "        )\n",
    "        print(\"episode {} (env-idx={}) started.\".format(episode.episode_id, env_index))\n",
    "\n",
    "    def on_episode_end(\n",
    "        self,\n",
    "        *,\n",
    "        worker: RolloutWorker,\n",
    "        base_env: BaseEnv,\n",
    "        policies: Dict[str, Policy],\n",
    "        episode: EpisodeV2,\n",
    "        env_index: int,\n",
    "        **kwargs\n",
    "    ):\n",
    "        env = base_env.get_sub_environments()[0]\n",
    "\n",
    "        episode.custom_metrics[\"total_trading\"] = env.total_trading\n",
    "        episode.custom_metrics[\"success_trade\"] = env.success_trade\n",
    "        episode.custom_metrics[\"log-ret\"] = np.log(env.asset_memory[-1] / env.asset_memory[0])\n",
    "        # episode.hist_data[\"action_memory\"] = env.action_memory\n",
    "        # episode.hist_data[\"asset_memory\"] = env.asset_memory"
   ]
  },
  {
   "cell_type": "code",
   "execution_count": 8,
   "metadata": {},
   "outputs": [
    {
     "data": {
      "text/html": [
       "<div>\n",
       "<style scoped>\n",
       "    .dataframe tbody tr th:only-of-type {\n",
       "        vertical-align: middle;\n",
       "    }\n",
       "\n",
       "    .dataframe tbody tr th {\n",
       "        vertical-align: top;\n",
       "    }\n",
       "\n",
       "    .dataframe thead th {\n",
       "        text-align: right;\n",
       "    }\n",
       "</style>\n",
       "<table border=\"1\" class=\"dataframe\">\n",
       "  <thead>\n",
       "    <tr style=\"text-align: right;\">\n",
       "      <th></th>\n",
       "      <th>date</th>\n",
       "      <th>open</th>\n",
       "      <th>high</th>\n",
       "      <th>low</th>\n",
       "      <th>close_</th>\n",
       "      <th>volume</th>\n",
       "      <th>cr-ma3</th>\n",
       "      <th>cci</th>\n",
       "      <th>cr-ma1</th>\n",
       "      <th>cr-ma2</th>\n",
       "      <th>change</th>\n",
       "      <th>ppoh</th>\n",
       "      <th>kdjj_9</th>\n",
       "      <th>ppo</th>\n",
       "      <th>ppos</th>\n",
       "      <th>stochrsi</th>\n",
       "      <th>close</th>\n",
       "    </tr>\n",
       "  </thead>\n",
       "  <tbody>\n",
       "    <tr>\n",
       "      <th>0</th>\n",
       "      <td>2008-01-04</td>\n",
       "      <td>-0.011763</td>\n",
       "      <td>0.004979</td>\n",
       "      <td>0.001228</td>\n",
       "      <td>0.015123</td>\n",
       "      <td>-0.097496</td>\n",
       "      <td>59.200253</td>\n",
       "      <td>79.132081</td>\n",
       "      <td>59.200253</td>\n",
       "      <td>59.200253</td>\n",
       "      <td>2.821431</td>\n",
       "      <td>0.041180</td>\n",
       "      <td>57.768095</td>\n",
       "      <td>0.056785</td>\n",
       "      <td>0.015605</td>\n",
       "      <td>100.000000</td>\n",
       "      <td>4.126450</td>\n",
       "    </tr>\n",
       "    <tr>\n",
       "      <th>1</th>\n",
       "      <td>2008-01-07</td>\n",
       "      <td>0.010660</td>\n",
       "      <td>0.005028</td>\n",
       "      <td>0.011390</td>\n",
       "      <td>0.004635</td>\n",
       "      <td>0.243585</td>\n",
       "      <td>59.200253</td>\n",
       "      <td>79.270060</td>\n",
       "      <td>59.200253</td>\n",
       "      <td>59.200253</td>\n",
       "      <td>-0.879938</td>\n",
       "      <td>0.028985</td>\n",
       "      <td>62.664231</td>\n",
       "      <td>0.059439</td>\n",
       "      <td>0.030454</td>\n",
       "      <td>79.566951</td>\n",
       "      <td>4.090139</td>\n",
       "    </tr>\n",
       "    <tr>\n",
       "      <th>2</th>\n",
       "      <td>2008-01-08</td>\n",
       "      <td>0.003758</td>\n",
       "      <td>0.069019</td>\n",
       "      <td>0.014079</td>\n",
       "      <td>0.066334</td>\n",
       "      <td>1.163794</td>\n",
       "      <td>59.200253</td>\n",
       "      <td>166.666667</td>\n",
       "      <td>11.161591</td>\n",
       "      <td>59.200253</td>\n",
       "      <td>7.931315</td>\n",
       "      <td>0.238123</td>\n",
       "      <td>83.918891</td>\n",
       "      <td>0.369409</td>\n",
       "      <td>0.131285</td>\n",
       "      <td>100.000000</td>\n",
       "      <td>4.414541</td>\n",
       "    </tr>\n",
       "    <tr>\n",
       "      <th>3</th>\n",
       "      <td>2008-01-09</td>\n",
       "      <td>0.079465</td>\n",
       "      <td>0.083181</td>\n",
       "      <td>0.079241</td>\n",
       "      <td>0.083667</td>\n",
       "      <td>0.498500</td>\n",
       "      <td>59.200253</td>\n",
       "      <td>142.720595</td>\n",
       "      <td>23.686582</td>\n",
       "      <td>59.200253</td>\n",
       "      <td>3.354971</td>\n",
       "      <td>0.406087</td>\n",
       "      <td>97.499320</td>\n",
       "      <td>0.688375</td>\n",
       "      <td>0.282288</td>\n",
       "      <td>100.000000</td>\n",
       "      <td>4.562648</td>\n",
       "    </tr>\n",
       "    <tr>\n",
       "      <th>4</th>\n",
       "      <td>2008-01-10</td>\n",
       "      <td>0.081943</td>\n",
       "      <td>0.068964</td>\n",
       "      <td>0.077064</td>\n",
       "      <td>0.073716</td>\n",
       "      <td>-0.148958</td>\n",
       "      <td>59.200253</td>\n",
       "      <td>105.180170</td>\n",
       "      <td>35.056104</td>\n",
       "      <td>11.161591</td>\n",
       "      <td>0.314143</td>\n",
       "      <td>0.452597</td>\n",
       "      <td>104.341647</td>\n",
       "      <td>0.888233</td>\n",
       "      <td>0.435636</td>\n",
       "      <td>100.000000</td>\n",
       "      <td>4.576981</td>\n",
       "    </tr>\n",
       "    <tr>\n",
       "      <th>...</th>\n",
       "      <td>...</td>\n",
       "      <td>...</td>\n",
       "      <td>...</td>\n",
       "      <td>...</td>\n",
       "      <td>...</td>\n",
       "      <td>...</td>\n",
       "      <td>...</td>\n",
       "      <td>...</td>\n",
       "      <td>...</td>\n",
       "      <td>...</td>\n",
       "      <td>...</td>\n",
       "      <td>...</td>\n",
       "      <td>...</td>\n",
       "      <td>...</td>\n",
       "      <td>...</td>\n",
       "      <td>...</td>\n",
       "      <td>...</td>\n",
       "    </tr>\n",
       "    <tr>\n",
       "      <th>2183</th>\n",
       "      <td>2016-12-26</td>\n",
       "      <td>0.176213</td>\n",
       "      <td>0.161197</td>\n",
       "      <td>0.163753</td>\n",
       "      <td>0.169463</td>\n",
       "      <td>-0.383340</td>\n",
       "      <td>50.225470</td>\n",
       "      <td>-85.150679</td>\n",
       "      <td>-2.641891</td>\n",
       "      <td>28.398025</td>\n",
       "      <td>-1.382035</td>\n",
       "      <td>-0.690099</td>\n",
       "      <td>40.170978</td>\n",
       "      <td>-0.323819</td>\n",
       "      <td>0.366279</td>\n",
       "      <td>10.970448</td>\n",
       "      <td>4.123949</td>\n",
       "    </tr>\n",
       "    <tr>\n",
       "      <th>2184</th>\n",
       "      <td>2016-12-27</td>\n",
       "      <td>0.169022</td>\n",
       "      <td>0.170205</td>\n",
       "      <td>0.176582</td>\n",
       "      <td>0.182054</td>\n",
       "      <td>-0.585909</td>\n",
       "      <td>47.993783</td>\n",
       "      <td>-58.352688</td>\n",
       "      <td>-2.312359</td>\n",
       "      <td>18.445531</td>\n",
       "      <td>1.101121</td>\n",
       "      <td>-0.593653</td>\n",
       "      <td>55.699541</td>\n",
       "      <td>-0.375786</td>\n",
       "      <td>0.217866</td>\n",
       "      <td>29.174675</td>\n",
       "      <td>4.169358</td>\n",
       "    </tr>\n",
       "    <tr>\n",
       "      <th>2185</th>\n",
       "      <td>2016-12-28</td>\n",
       "      <td>0.182762</td>\n",
       "      <td>0.176986</td>\n",
       "      <td>0.192885</td>\n",
       "      <td>0.183123</td>\n",
       "      <td>-0.708826</td>\n",
       "      <td>45.419613</td>\n",
       "      <td>-22.821693</td>\n",
       "      <td>-0.090859</td>\n",
       "      <td>10.448570</td>\n",
       "      <td>0.098996</td>\n",
       "      <td>-0.497892</td>\n",
       "      <td>63.959284</td>\n",
       "      <td>-0.404499</td>\n",
       "      <td>0.093393</td>\n",
       "      <td>34.239280</td>\n",
       "      <td>4.173486</td>\n",
       "    </tr>\n",
       "    <tr>\n",
       "      <th>2186</th>\n",
       "      <td>2016-12-29</td>\n",
       "      <td>0.180342</td>\n",
       "      <td>0.172264</td>\n",
       "      <td>0.186837</td>\n",
       "      <td>0.184153</td>\n",
       "      <td>-0.644954</td>\n",
       "      <td>42.709142</td>\n",
       "      <td>-21.808087</td>\n",
       "      <td>2.325389</td>\n",
       "      <td>5.812886</td>\n",
       "      <td>0.098887</td>\n",
       "      <td>-0.406408</td>\n",
       "      <td>68.280135</td>\n",
       "      <td>-0.414617</td>\n",
       "      <td>-0.008209</td>\n",
       "      <td>68.243417</td>\n",
       "      <td>4.177613</td>\n",
       "    </tr>\n",
       "    <tr>\n",
       "      <th>2187</th>\n",
       "      <td>2016-12-30</td>\n",
       "      <td>0.186040</td>\n",
       "      <td>0.172138</td>\n",
       "      <td>0.174804</td>\n",
       "      <td>0.165269</td>\n",
       "      <td>-0.365648</td>\n",
       "      <td>40.130169</td>\n",
       "      <td>-87.005188</td>\n",
       "      <td>6.299959</td>\n",
       "      <td>3.121617</td>\n",
       "      <td>-1.581002</td>\n",
       "      <td>-0.428345</td>\n",
       "      <td>45.633026</td>\n",
       "      <td>-0.543640</td>\n",
       "      <td>-0.115295</td>\n",
       "      <td>26.477674</td>\n",
       "      <td>4.111565</td>\n",
       "    </tr>\n",
       "  </tbody>\n",
       "</table>\n",
       "<p>2188 rows × 17 columns</p>\n",
       "</div>"
      ],
      "text/plain": [
       "           date      open      high       low    close_    volume     cr-ma3  \\\n",
       "0    2008-01-04 -0.011763  0.004979  0.001228  0.015123 -0.097496  59.200253   \n",
       "1    2008-01-07  0.010660  0.005028  0.011390  0.004635  0.243585  59.200253   \n",
       "2    2008-01-08  0.003758  0.069019  0.014079  0.066334  1.163794  59.200253   \n",
       "3    2008-01-09  0.079465  0.083181  0.079241  0.083667  0.498500  59.200253   \n",
       "4    2008-01-10  0.081943  0.068964  0.077064  0.073716 -0.148958  59.200253   \n",
       "...         ...       ...       ...       ...       ...       ...        ...   \n",
       "2183 2016-12-26  0.176213  0.161197  0.163753  0.169463 -0.383340  50.225470   \n",
       "2184 2016-12-27  0.169022  0.170205  0.176582  0.182054 -0.585909  47.993783   \n",
       "2185 2016-12-28  0.182762  0.176986  0.192885  0.183123 -0.708826  45.419613   \n",
       "2186 2016-12-29  0.180342  0.172264  0.186837  0.184153 -0.644954  42.709142   \n",
       "2187 2016-12-30  0.186040  0.172138  0.174804  0.165269 -0.365648  40.130169   \n",
       "\n",
       "             cci     cr-ma1     cr-ma2    change      ppoh      kdjj_9  \\\n",
       "0      79.132081  59.200253  59.200253  2.821431  0.041180   57.768095   \n",
       "1      79.270060  59.200253  59.200253 -0.879938  0.028985   62.664231   \n",
       "2     166.666667  11.161591  59.200253  7.931315  0.238123   83.918891   \n",
       "3     142.720595  23.686582  59.200253  3.354971  0.406087   97.499320   \n",
       "4     105.180170  35.056104  11.161591  0.314143  0.452597  104.341647   \n",
       "...          ...        ...        ...       ...       ...         ...   \n",
       "2183  -85.150679  -2.641891  28.398025 -1.382035 -0.690099   40.170978   \n",
       "2184  -58.352688  -2.312359  18.445531  1.101121 -0.593653   55.699541   \n",
       "2185  -22.821693  -0.090859  10.448570  0.098996 -0.497892   63.959284   \n",
       "2186  -21.808087   2.325389   5.812886  0.098887 -0.406408   68.280135   \n",
       "2187  -87.005188   6.299959   3.121617 -1.581002 -0.428345   45.633026   \n",
       "\n",
       "           ppo      ppos    stochrsi     close  \n",
       "0     0.056785  0.015605  100.000000  4.126450  \n",
       "1     0.059439  0.030454   79.566951  4.090139  \n",
       "2     0.369409  0.131285  100.000000  4.414541  \n",
       "3     0.688375  0.282288  100.000000  4.562648  \n",
       "4     0.888233  0.435636  100.000000  4.576981  \n",
       "...        ...       ...         ...       ...  \n",
       "2183 -0.323819  0.366279   10.970448  4.123949  \n",
       "2184 -0.375786  0.217866   29.174675  4.169358  \n",
       "2185 -0.404499  0.093393   34.239280  4.173486  \n",
       "2186 -0.414617 -0.008209   68.243417  4.177613  \n",
       "2187 -0.543640 -0.115295   26.477674  4.111565  \n",
       "\n",
       "[2188 rows x 17 columns]"
      ]
     },
     "execution_count": 8,
     "metadata": {},
     "output_type": "execute_result"
    }
   ],
   "source": [
    "df_train"
   ]
  },
  {
   "cell_type": "code",
   "execution_count": 10,
   "metadata": {},
   "outputs": [],
   "source": [
    "param_space = {\n",
    "    \"framework\": \"torch\",\n",
    "    \"env\": \"SingleStockTrading\",\n",
    "    \"disable_env_checking\": True,\n",
    "    \"env_config\": {\n",
    "        \"df\": df_train,\n",
    "        # \"verbose\": True,\n",
    "    },\n",
    "\n",
    "    # \"num_workers\": 5,\n",
    "    # \"num_envs_per_worker\": 10,\n",
    "    # \"num_cpus_per_worker\": 1,\n",
    "\n",
    "    \"model\": {\n",
    "        \"custom_model_config\": {\n",
    "            \"type\": tune.grid_search([\"iqn\", \"cqn\", \"dqn\", \"qrdqn\"]) ,\n",
    "            \"vmin\": 0,\n",
    "            \"vmax\": 100,\n",
    "            \"net_arch\": [64],\n",
    "            \"action_mask_fn\": SingleStockTradingEnv.action_mask_fn,\n",
    "        }\n",
    "    },\n",
    "\n",
    "    #\"min_sample_timesteps_per_iteration\": 64,\n",
    "    \"min_train_timesteps_per_iteration\": 64,\n",
    "    \n",
    "    \"exploration_config\": {\n",
    "            \"type\": \"EpsilonGreedy\",\n",
    "            \"initial_epsilon\": 1.0,\n",
    "            \"final_epsilon\": 0.02,\n",
    "            \"epsilon_timesteps\": 10000,\n",
    "    },\n",
    "\n",
    "    \"evaluation_interval\": 3,\n",
    "    \"evaluation_duration\": 1,\n",
    "    \"evaluation_duration_unit\": \"episodes\",\n",
    "    \"evaluation_num_workers\": 1,\n",
    "    \"evaluation_config\": {\n",
    "        \"explore\": False,\n",
    "        \"env_config\": {\n",
    "            \"df\": df_test,\n",
    "        },\n",
    "    }\n",
    "}"
   ]
  },
  {
   "cell_type": "code",
   "execution_count": 11,
   "metadata": {},
   "outputs": [
    {
     "data": {
      "text/html": [
       "<div class=\"tuneStatus\">\n",
       "  <div style=\"display: flex;flex-direction: row\">\n",
       "    <div style=\"display: flex;flex-direction: column;\">\n",
       "      <h3>Tune Status</h3>\n",
       "      <table>\n",
       "<tbody>\n",
       "<tr><td>Current time:</td><td>2023-03-05 16:44:21</td></tr>\n",
       "<tr><td>Running for: </td><td>00:06:19.40        </td></tr>\n",
       "<tr><td>Memory:      </td><td>11.5/15.4 GiB      </td></tr>\n",
       "</tbody>\n",
       "</table>\n",
       "    </div>\n",
       "    <div class=\"vDivider\"></div>\n",
       "    <div class=\"systemInfo\">\n",
       "      <h3>System Info</h3>\n",
       "      Using FIFO scheduling algorithm.<br>Resources requested: 0/16 CPUs, 0/0 GPUs, 0.0/2.99 GiB heap, 0.0/1.49 GiB objects\n",
       "    </div>\n",
       "    \n",
       "  </div>\n",
       "  <div class=\"hDivider\"></div>\n",
       "  <div class=\"trialStatus\">\n",
       "    <h3>Trial Status</h3>\n",
       "    <table>\n",
       "<thead>\n",
       "<tr><th>Trial name                          </th><th>status    </th><th>loc            </th><th>model/custom_model_c\n",
       "onfig/type      </th><th style=\"text-align: right;\">  iter</th><th style=\"text-align: right;\">  total time (s)</th><th style=\"text-align: right;\">   ts</th><th style=\"text-align: right;\">    reward</th><th style=\"text-align: right;\">  episode_reward_max</th><th style=\"text-align: right;\">  episode_reward_min</th><th style=\"text-align: right;\">  episode_len_mean</th></tr>\n",
       "</thead>\n",
       "<tbody>\n",
       "<tr><td>MyDQN_SingleStockTrading_0a44c_00000</td><td>TERMINATED</td><td>127.0.0.1:23804</td><td>iqn  </td><td style=\"text-align: right;\">    10</td><td style=\"text-align: right;\">         341.279</td><td style=\"text-align: right;\">10002</td><td style=\"text-align: right;\"> 0.972273 </td><td style=\"text-align: right;\">            3.33683 </td><td style=\"text-align: right;\">           -0.732732</td><td style=\"text-align: right;\">              2187</td></tr>\n",
       "<tr><td>MyDQN_SingleStockTrading_0a44c_00001</td><td>TERMINATED</td><td>127.0.0.1:19328</td><td>cqn  </td><td style=\"text-align: right;\">    10</td><td style=\"text-align: right;\">         247.842</td><td style=\"text-align: right;\">10002</td><td style=\"text-align: right;\">-2.03374  </td><td style=\"text-align: right;\">            0.145559</td><td style=\"text-align: right;\">           -3.65522 </td><td style=\"text-align: right;\">              2187</td></tr>\n",
       "<tr><td>MyDQN_SingleStockTrading_0a44c_00002</td><td>TERMINATED</td><td>127.0.0.1:16032</td><td>dqn  </td><td style=\"text-align: right;\">    10</td><td style=\"text-align: right;\">         237.907</td><td style=\"text-align: right;\">10002</td><td style=\"text-align: right;\">-0.0896124</td><td style=\"text-align: right;\">            1.25721 </td><td style=\"text-align: right;\">           -2.30248 </td><td style=\"text-align: right;\">              2187</td></tr>\n",
       "<tr><td>MyDQN_SingleStockTrading_0a44c_00003</td><td>TERMINATED</td><td>127.0.0.1:19224</td><td>qrdqn</td><td style=\"text-align: right;\">    10</td><td style=\"text-align: right;\">         233.27 </td><td style=\"text-align: right;\">10002</td><td style=\"text-align: right;\"> 0.177753 </td><td style=\"text-align: right;\">            2.8565  </td><td style=\"text-align: right;\">           -1.44354 </td><td style=\"text-align: right;\">              2187</td></tr>\n",
       "</tbody>\n",
       "</table>\n",
       "  </div>\n",
       "</div>\n",
       "<style>\n",
       ".tuneStatus {\n",
       "  color: var(--jp-ui-font-color1);\n",
       "}\n",
       ".tuneStatus .systemInfo {\n",
       "  display: flex;\n",
       "  flex-direction: column;\n",
       "}\n",
       ".tuneStatus td {\n",
       "  white-space: nowrap;\n",
       "}\n",
       ".tuneStatus .trialStatus {\n",
       "  display: flex;\n",
       "  flex-direction: column;\n",
       "}\n",
       ".tuneStatus h3 {\n",
       "  font-weight: bold;\n",
       "}\n",
       ".tuneStatus .hDivider {\n",
       "  border-bottom-width: var(--jp-border-width);\n",
       "  border-bottom-color: var(--jp-border-color0);\n",
       "  border-bottom-style: solid;\n",
       "}\n",
       ".tuneStatus .vDivider {\n",
       "  border-left-width: var(--jp-border-width);\n",
       "  border-left-color: var(--jp-border-color0);\n",
       "  border-left-style: solid;\n",
       "  margin: 0.5em 1em 0.5em 1em;\n",
       "}\n",
       "</style>\n"
      ],
      "text/plain": [
       "<IPython.core.display.HTML object>"
      ]
     },
     "metadata": {},
     "output_type": "display_data"
    }
   ],
   "source": [
    "tuner = tune.Tuner(\n",
    "    MyDQN, \n",
    "    param_space=dict({\"callbacks\": MyCallbacks,}, **param_space),\n",
    "    tune_config=tune.TuneConfig(num_samples=1),\n",
    "    run_config=air.RunConfig(\n",
    "        progress_reporter=JupyterNotebookReporter(),\n",
    "        stop={\n",
    "            \"episode_reward_mean\": 10,\n",
    "            \"timesteps_total\": 10000,\n",
    "        },\n",
    "        callbacks=[TBXLoggerCallback()],\n",
    "    )\n",
    "    \n",
    ")\n",
    "results = tuner.fit()"
   ]
  },
  {
   "cell_type": "code",
   "execution_count": 14,
   "metadata": {},
   "outputs": [
    {
     "data": {
      "text/plain": [
       "Result(metrics={'custom_metrics': {'total_trading_mean': 458.5, 'total_trading_min': 353, 'total_trading_max': 550, 'success_trade_mean': 240.5, 'success_trade_min': 202, 'success_trade_max': 278, 'log-ret_mean': 0.6739280269837461, 'log-ret_min': -0.5078911525914453, 'log-ret_max': 2.312917720073805}, 'episode_media': {}, 'info': {'learner': {'default_policy': {'learner_stats': {'allreduce_latency': 0.0, 'grad_gnorm': 0.06978209316730499, 'cur_lr': 0.0005, 'td_error': 0.016889477148652077, 'loss': 0.003086389973759651, 'mean_r_t': 0.003764453111216426}, 'td_error': array([0.01688948], dtype=float32), 'mean_td_error': 0.016889477148652077, 'model': {}, 'custom_metrics': {}, 'num_agent_steps_trained': 32.0, 'num_grad_updates_lifetime': 9002.0, 'diff_num_grad_updates_vs_sampler_policy': 2700.90625}}, 'num_env_steps_sampled': 10002, 'num_env_steps_trained': 288064, 'num_agent_steps_sampled': 10002, 'num_agent_steps_trained': 288064, 'last_target_update_ts': 10001, 'num_target_updates': 19}, 'sampler_results': {'episode_reward_max': 3.3368349247346862, 'episode_reward_min': -0.7327320471550594, 'episode_reward_mean': 0.9722726224455327, 'episode_len_mean': 2187.0, 'episode_media': {}, 'episodes_this_iter': 0, 'policy_reward_min': {}, 'policy_reward_max': {}, 'policy_reward_mean': {}, 'custom_metrics': {'total_trading_mean': 458.5, 'total_trading_min': 353, 'total_trading_max': 550, 'success_trade_mean': 240.5, 'success_trade_min': 202, 'success_trade_max': 278, 'log-ret_mean': 0.6739280269837461, 'log-ret_min': -0.5078911525914453, 'log-ret_max': 2.312917720073805}, 'hist_stats': {'episode_reward': [-0.7327320471550594, -0.4389869215574401, 1.7239745337599437, 3.3368349247346862], 'episode_lengths': [2187, 2187, 2187, 2187]}, 'sampler_perf': {'mean_raw_obs_processing_ms': 0.9535126441633379, 'mean_inference_ms': 1.7452228211907275, 'mean_action_processing_ms': 0.17615793095795368, 'mean_env_wait_ms': 0.09012863251004383, 'mean_env_render_ms': 0.0}, 'num_faulty_episodes': 0, 'connector_metrics': {'ObsPreprocessorConnector_ms': 0.0, 'StateBufferConnector_ms': 0.0, 'ViewRequirementAgentConnector_ms': 0.1888573169708252}}, 'episode_reward_max': 3.3368349247346862, 'episode_reward_min': -0.7327320471550594, 'episode_reward_mean': 0.9722726224455327, 'episode_len_mean': 2187.0, 'episodes_this_iter': 0, 'policy_reward_min': {}, 'policy_reward_max': {}, 'policy_reward_mean': {}, 'hist_stats': {'episode_reward': [-0.7327320471550594, -0.4389869215574401, 1.7239745337599437, 3.3368349247346862], 'episode_lengths': [2187, 2187, 2187, 2187]}, 'sampler_perf': {'mean_raw_obs_processing_ms': 0.9535126441633379, 'mean_inference_ms': 1.7452228211907275, 'mean_action_processing_ms': 0.17615793095795368, 'mean_env_wait_ms': 0.09012863251004383, 'mean_env_render_ms': 0.0}, 'num_faulty_episodes': 0, 'connector_metrics': {'ObsPreprocessorConnector_ms': 0.0, 'StateBufferConnector_ms': 0.0, 'ViewRequirementAgentConnector_ms': 0.1888573169708252}, 'num_healthy_workers': 0, 'num_in_flight_async_reqs': 0, 'num_remote_worker_restarts': 0, 'num_agent_steps_sampled': 10002, 'num_agent_steps_trained': 288064, 'num_env_steps_sampled': 10002, 'num_env_steps_trained': 288064, 'num_env_steps_sampled_this_iter': 1000, 'num_env_steps_trained_this_iter': 32000, 'num_steps_trained_this_iter': 32000, 'agent_timesteps_total': 10002, 'timers': {'training_iteration_time_ms': 31.402, 'load_time_ms': 0.603, 'load_throughput': 53088.256, 'learn_time_ms': 15.803, 'learn_throughput': 2024.987, 'synch_weights_time_ms': 0.0}, 'counters': {'num_env_steps_sampled': 10002, 'num_env_steps_trained': 288064, 'num_agent_steps_sampled': 10002, 'num_agent_steps_trained': 288064, 'last_target_update_ts': 10001, 'num_target_updates': 19}, 'done': True, 'trial_id': '0a44c_00000', 'perf': {'cpu_util_percent': 20.26666666666667, 'ram_util_percent': 74.72500000000001}, 'experiment_tag': '0_type=iqn'}, error=None, log_dir=WindowsPath('C:/Users/Wu Lingfeng/ray_results/MyDQN_2023-03-05_16-38-01/MyDQN_SingleStockTrading_0a44c_00000_0_type=iqn_2023-03-05_16-38-02'))"
      ]
     },
     "execution_count": 14,
     "metadata": {},
     "output_type": "execute_result"
    }
   ],
   "source": [
    "results[0]"
   ]
  },
  {
   "cell_type": "code",
   "execution_count": 23,
   "metadata": {},
   "outputs": [],
   "source": [
    "result = results.get_best_result(metric=\"episode_reward_mean\", mode=\"max\")"
   ]
  },
  {
   "cell_type": "code",
   "execution_count": 24,
   "metadata": {},
   "outputs": [],
   "source": [
    "cp = result.best_checkpoints[0][0]"
   ]
  },
  {
   "cell_type": "code",
   "execution_count": 45,
   "metadata": {},
   "outputs": [
    {
     "data": {
      "text/plain": [
       "Result(metrics={'custom_metrics': {'total_trading_mean': 458.5, 'total_trading_min': 353, 'total_trading_max': 550, 'success_trade_mean': 240.5, 'success_trade_min': 202, 'success_trade_max': 278, 'log-ret_mean': 0.6739280269837461, 'log-ret_min': -0.5078911525914453, 'log-ret_max': 2.312917720073805}, 'episode_media': {}, 'info': {'learner': {'default_policy': {'learner_stats': {'allreduce_latency': 0.0, 'grad_gnorm': 0.06978209316730499, 'cur_lr': 0.0005, 'td_error': 0.016889477148652077, 'loss': 0.003086389973759651, 'mean_r_t': 0.003764453111216426}, 'td_error': array([0.01688948], dtype=float32), 'mean_td_error': 0.016889477148652077, 'model': {}, 'custom_metrics': {}, 'num_agent_steps_trained': 32.0, 'num_grad_updates_lifetime': 9002.0, 'diff_num_grad_updates_vs_sampler_policy': 2700.90625}}, 'num_env_steps_sampled': 10002, 'num_env_steps_trained': 288064, 'num_agent_steps_sampled': 10002, 'num_agent_steps_trained': 288064, 'last_target_update_ts': 10001, 'num_target_updates': 19}, 'sampler_results': {'episode_reward_max': 3.3368349247346862, 'episode_reward_min': -0.7327320471550594, 'episode_reward_mean': 0.9722726224455327, 'episode_len_mean': 2187.0, 'episode_media': {}, 'episodes_this_iter': 0, 'policy_reward_min': {}, 'policy_reward_max': {}, 'policy_reward_mean': {}, 'custom_metrics': {'total_trading_mean': 458.5, 'total_trading_min': 353, 'total_trading_max': 550, 'success_trade_mean': 240.5, 'success_trade_min': 202, 'success_trade_max': 278, 'log-ret_mean': 0.6739280269837461, 'log-ret_min': -0.5078911525914453, 'log-ret_max': 2.312917720073805}, 'hist_stats': {'episode_reward': [-0.7327320471550594, -0.4389869215574401, 1.7239745337599437, 3.3368349247346862], 'episode_lengths': [2187, 2187, 2187, 2187]}, 'sampler_perf': {'mean_raw_obs_processing_ms': 0.9535126441633379, 'mean_inference_ms': 1.7452228211907275, 'mean_action_processing_ms': 0.17615793095795368, 'mean_env_wait_ms': 0.09012863251004383, 'mean_env_render_ms': 0.0}, 'num_faulty_episodes': 0, 'connector_metrics': {'ObsPreprocessorConnector_ms': 0.0, 'StateBufferConnector_ms': 0.0, 'ViewRequirementAgentConnector_ms': 0.1888573169708252}}, 'episode_reward_max': 3.3368349247346862, 'episode_reward_min': -0.7327320471550594, 'episode_reward_mean': 0.9722726224455327, 'episode_len_mean': 2187.0, 'episodes_this_iter': 0, 'policy_reward_min': {}, 'policy_reward_max': {}, 'policy_reward_mean': {}, 'hist_stats': {'episode_reward': [-0.7327320471550594, -0.4389869215574401, 1.7239745337599437, 3.3368349247346862], 'episode_lengths': [2187, 2187, 2187, 2187]}, 'sampler_perf': {'mean_raw_obs_processing_ms': 0.9535126441633379, 'mean_inference_ms': 1.7452228211907275, 'mean_action_processing_ms': 0.17615793095795368, 'mean_env_wait_ms': 0.09012863251004383, 'mean_env_render_ms': 0.0}, 'num_faulty_episodes': 0, 'connector_metrics': {'ObsPreprocessorConnector_ms': 0.0, 'StateBufferConnector_ms': 0.0, 'ViewRequirementAgentConnector_ms': 0.1888573169708252}, 'num_healthy_workers': 0, 'num_in_flight_async_reqs': 0, 'num_remote_worker_restarts': 0, 'num_agent_steps_sampled': 10002, 'num_agent_steps_trained': 288064, 'num_env_steps_sampled': 10002, 'num_env_steps_trained': 288064, 'num_env_steps_sampled_this_iter': 1000, 'num_env_steps_trained_this_iter': 32000, 'num_steps_trained_this_iter': 32000, 'agent_timesteps_total': 10002, 'timers': {'training_iteration_time_ms': 31.402, 'load_time_ms': 0.603, 'load_throughput': 53088.256, 'learn_time_ms': 15.803, 'learn_throughput': 2024.987, 'synch_weights_time_ms': 0.0}, 'counters': {'num_env_steps_sampled': 10002, 'num_env_steps_trained': 288064, 'num_agent_steps_sampled': 10002, 'num_agent_steps_trained': 288064, 'last_target_update_ts': 10001, 'num_target_updates': 19}, 'done': True, 'trial_id': '0a44c_00000', 'perf': {'cpu_util_percent': 20.26666666666667, 'ram_util_percent': 74.72500000000001}, 'experiment_tag': '0_type=iqn'}, error=None, log_dir=WindowsPath('C:/Users/Wu Lingfeng/ray_results/MyDQN_2023-03-05_16-38-01/MyDQN_SingleStockTrading_0a44c_00000_0_type=iqn_2023-03-05_16-38-02'))"
      ]
     },
     "execution_count": 45,
     "metadata": {},
     "output_type": "execute_result"
    }
   ],
   "source": [
    "result"
   ]
  },
  {
   "cell_type": "code",
   "execution_count": 26,
   "metadata": {},
   "outputs": [
    {
     "name": "stderr",
     "output_type": "stream",
     "text": [
      "2023-03-05 16:51:43,741\tWARNING algorithm_config.py:596 -- Cannot create MyDQNConfig from given `config_dict`! Property __stdout_file__ not supported.\n",
      "2023-03-05 16:51:43,777\tINFO algorithm.py:506 -- Current log_level is WARN. For more information, set 'log_level': 'INFO' / 'DEBUG' or use the -v and -vv flags.\n",
      "2023-03-05 16:51:47,744\tWARNING util.py:67 -- Install gputil for GPU system monitoring.\n"
     ]
    }
   ],
   "source": [
    "algo = MyDQN.from_checkpoint(cp)"
   ]
  },
  {
   "cell_type": "code",
   "execution_count": 36,
   "metadata": {},
   "outputs": [],
   "source": [
    "env = SingleStockTradingEnv({\"df\": df_train})"
   ]
  },
  {
   "cell_type": "code",
   "execution_count": 37,
   "metadata": {},
   "outputs": [],
   "source": [
    "obs, _ = env.reset()"
   ]
  },
  {
   "cell_type": "code",
   "execution_count": 38,
   "metadata": {},
   "outputs": [
    {
     "data": {
      "text/plain": [
       "array([-1.17631157e-02,  4.97875621e-03,  1.22765430e-03,  1.51225299e-02,\n",
       "       -9.74958485e-02,  5.92002531e+01,  7.91320811e+01,  5.92002531e+01,\n",
       "        5.92002531e+01,  2.82143133e+00,  4.11800582e-02,  5.77680945e+01,\n",
       "        5.67851353e-02,  1.56050772e-02,  1.00000000e+02,  0.00000000e+00])"
      ]
     },
     "execution_count": 38,
     "metadata": {},
     "output_type": "execute_result"
    }
   ],
   "source": [
    "obs"
   ]
  },
  {
   "cell_type": "code",
   "execution_count": 28,
   "metadata": {},
   "outputs": [],
   "source": [
    "pi = algo.get_policy() #.compute_single_action(obs[0])"
   ]
  },
  {
   "cell_type": "code",
   "execution_count": 29,
   "metadata": {},
   "outputs": [
    {
     "data": {
      "text/plain": [
       "1.2828584199838469"
      ]
     },
     "execution_count": 29,
     "metadata": {},
     "output_type": "execute_result"
    }
   ],
   "source": [
    "np.log(df_test.close.iloc[-1] / df_test.close.iloc[0])"
   ]
  },
  {
   "cell_type": "code",
   "execution_count": 27,
   "metadata": {},
   "outputs": [
    {
     "name": "stdout",
     "output_type": "stream",
     "text": [
      "\u001b[2m\u001b[36m(RolloutWorker pid=9368)\u001b[0m episode 80999052552010013 (env-idx=0) started.\n"
     ]
    },
    {
     "data": {
      "text/plain": [
       "{'evaluation': {'episode_reward_max': 0.4257228303669555,\n",
       "  'episode_reward_min': 0.4257228303669555,\n",
       "  'episode_reward_mean': 0.4257228303669555,\n",
       "  'episode_len_mean': 730.0,\n",
       "  'episode_media': {},\n",
       "  'episodes_this_iter': 1,\n",
       "  'policy_reward_min': {},\n",
       "  'policy_reward_max': {},\n",
       "  'policy_reward_mean': {},\n",
       "  'custom_metrics': {'total_trading_mean': 62.0,\n",
       "   'total_trading_min': 62,\n",
       "   'total_trading_max': 62,\n",
       "   'success_trade_mean': 31.0,\n",
       "   'success_trade_min': 31,\n",
       "   'success_trade_max': 31,\n",
       "   'log-ret_mean': 0.29508857956885637,\n",
       "   'log-ret_min': 0.29508857956885637,\n",
       "   'log-ret_max': 0.29508857956885637},\n",
       "  'hist_stats': {'episode_reward': [0.4257228303669555],\n",
       "   'episode_lengths': [730]},\n",
       "  'sampler_perf': {'mean_raw_obs_processing_ms': 0.3393860750420149,\n",
       "   'mean_inference_ms': 1.476598340411519,\n",
       "   'mean_action_processing_ms': 0.13359235510454295,\n",
       "   'mean_env_wait_ms': 0.07882196502059331,\n",
       "   'mean_env_render_ms': 0.0},\n",
       "  'num_faulty_episodes': 0,\n",
       "  'connector_metrics': {'ObsPreprocessorConnector_ms': 0.0,\n",
       "   'StateBufferConnector_ms': 0.0,\n",
       "   'ViewRequirementAgentConnector_ms': 0.49843788146972656},\n",
       "  'num_agent_steps_sampled_this_iter': 730,\n",
       "  'num_env_steps_sampled_this_iter': 730,\n",
       "  'timesteps_this_iter': 730}}"
      ]
     },
     "execution_count": 27,
     "metadata": {},
     "output_type": "execute_result"
    },
    {
     "name": "stdout",
     "output_type": "stream",
     "text": [
      "\u001b[2m\u001b[36m(RolloutWorker pid=9368)\u001b[0m episode 382150096101627407 (env-idx=0) started.\n"
     ]
    }
   ],
   "source": [
    "algo.evaluate()"
   ]
  },
  {
   "cell_type": "code",
   "execution_count": 39,
   "metadata": {},
   "outputs": [],
   "source": [
    "state = pi.model.get_initial_state()"
   ]
  },
  {
   "cell_type": "code",
   "execution_count": 41,
   "metadata": {},
   "outputs": [],
   "source": [
    "import torch\n",
    "from ray.rllib.policy.sample_batch import SampleBatch"
   ]
  },
  {
   "cell_type": "code",
   "execution_count": 42,
   "metadata": {},
   "outputs": [],
   "source": [
    "obs = torch.tensor(obs)"
   ]
  },
  {
   "cell_type": "code",
   "execution_count": null,
   "metadata": {},
   "outputs": [],
   "source": [
    "pi.model({SampleBatch.OBS: obs}, state, torch.tensor([1]))"
   ]
  },
  {
   "cell_type": "code",
   "execution_count": null,
   "metadata": {},
   "outputs": [],
   "source": [
    "def get_envs(n_tickers: int = 10, seed=None) -> Tuple[MultiStockTradingEnv, MultiStockTradingEnv, MultiStockTradingEnv]:\n",
    "    assert n_tickers <= len(df_dict_train)\n",
    "\n",
    "    env_list = list()\n",
    "    random.seed(seed)\n",
    "    tic_list = random.sample(df_dict_train.keys(), n_tickers)\n",
    "    print('Sampled tickers: ', tic_list)\n",
    "    for _df_dict in [df_dict_train, df_dict_test, df_dict_trade]:\n",
    "        if len(_df_dict[tic_list[0]]) == 0:\n",
    "            env_list.append(None)\n",
    "        else:\n",
    "            _dfs = list()\n",
    "            for tic in tic_list:\n",
    "                _df = _df_dict[tic].copy()\n",
    "                _df['tic'] = tic\n",
    "                _dfs.append(_df)\n",
    "            _dfs = pd.concat(_dfs)\n",
    "            # drop dates that missing data\n",
    "            _dfs = _dfs.pivot_table(index=['date'], columns=['tic']).dropna().stack().reset_index()\n",
    "            _dfs.sort_values(['date', 'tic'], inplace=True)\n",
    "            _dfs.set_index(['date', 'tic'], inplace=True)\n",
    "            env_list.append(Monitor(MultiStockTradingEnv(_dfs, stack_frame=10)))\n",
    "    \n",
    "    return tuple(env_list)"
   ]
  }
 ],
 "metadata": {
  "kernelspec": {
   "display_name": "FTL",
   "language": "python",
   "name": "python3"
  },
  "language_info": {
   "codemirror_mode": {
    "name": "ipython",
    "version": 3
   },
   "file_extension": ".py",
   "mimetype": "text/x-python",
   "name": "python",
   "nbconvert_exporter": "python",
   "pygments_lexer": "ipython3",
   "version": "3.9.13"
  },
  "orig_nbformat": 4,
  "vscode": {
   "interpreter": {
    "hash": "2970689e78aef4c07a5052d9e555eb892e49096ed5628fc96d9893432af6893f"
   }
  }
 },
 "nbformat": 4,
 "nbformat_minor": 2
}
