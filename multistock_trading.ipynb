{
 "cells": [
  {
   "cell_type": "code",
   "execution_count": 1,
   "metadata": {},
   "outputs": [
    {
     "name": "stderr",
     "output_type": "stream",
     "text": [
      "c:\\ProgramData\\Miniconda3\\envs\\FTL\\lib\\site-packages\\tqdm\\auto.py:22: TqdmWarning: IProgress not found. Please update jupyter and ipywidgets. See https://ipywidgets.readthedocs.io/en/stable/user_install.html\n",
      "  from .autonotebook import tqdm as notebook_tqdm\n"
     ]
    }
   ],
   "source": [
    "import os\n",
    "from typing import Dict\n",
    "\n",
    "import matplotlib.pyplot as plt\n",
    "import numpy as np\n",
    "import pandas as pd\n",
    "import ray\n",
    "from ray import tune, air\n",
    "from ray.tune import JupyterNotebookReporter\n",
    "from ray.tune.logger import TBXLoggerCallback\n",
    "from ray.rllib.algorithms import AlgorithmConfig\n",
    "from ray.rllib.algorithms.callbacks import DefaultCallbacks\n",
    "from ray.rllib.env import BaseEnv\n",
    "from ray.rllib.evaluation import Episode, RolloutWorker\n",
    "from ray.rllib.evaluation.episode_v2 import EpisodeV2\n",
    "from ray.rllib.policy import Policy\n",
    "from scipy.special import softmax\n",
    "import seaborn as sns\n",
    "\n",
    "from stocktradingv2.agent.mysac import MySAC, MySACConfig\n",
    "from stocktradingv2.env.MultiStockTradingEnv import MultiStockTradingEnv"
   ]
  },
  {
   "cell_type": "code",
   "execution_count": 2,
   "metadata": {},
   "outputs": [
    {
     "name": "stderr",
     "output_type": "stream",
     "text": [
      "2023-03-11 21:38:26,766\tINFO worker.py:1544 -- Started a local Ray instance. View the dashboard at \u001b[1m\u001b[32m127.0.0.1:8266 \u001b[39m\u001b[22m\n"
     ]
    },
    {
     "data": {
      "text/html": [
       "<div>\n",
       "    <div style=\"margin-left: 50px;display: flex;flex-direction: row;align-items: center\">\n",
       "        <h3 style=\"color: var(--jp-ui-font-color0)\">Ray</h3>\n",
       "        <svg version=\"1.1\" id=\"ray\" width=\"3em\" viewBox=\"0 0 144.5 144.6\" style=\"margin-left: 3em;margin-right: 3em\">\n",
       "            <g id=\"layer-1\">\n",
       "                <path fill=\"#00a2e9\" class=\"st0\" d=\"M97.3,77.2c-3.8-1.1-6.2,0.9-8.3,5.1c-3.5,6.8-9.9,9.9-17.4,9.6S58,88.1,54.8,81.2c-1.4-3-3-4-6.3-4.1\n",
       "                    c-5.6-0.1-9.9,0.1-13.1,6.4c-3.8,7.6-13.6,10.2-21.8,7.6C5.2,88.4-0.4,80.5,0,71.7c0.1-8.4,5.7-15.8,13.8-18.2\n",
       "                    c8.4-2.6,17.5,0.7,22.3,8c1.3,1.9,1.3,5.2,3.6,5.6c3.9,0.6,8,0.2,12,0.2c1.8,0,1.9-1.6,2.4-2.8c3.5-7.8,9.7-11.8,18-11.9\n",
       "                    c8.2-0.1,14.4,3.9,17.8,11.4c1.3,2.8,2.9,3.6,5.7,3.3c1-0.1,2,0.1,3,0c2.8-0.5,6.4,1.7,8.1-2.7s-2.3-5.5-4.1-7.5\n",
       "                    c-5.1-5.7-10.9-10.8-16.1-16.3C84,38,81.9,37.1,78,38.3C66.7,42,56.2,35.7,53,24.1C50.3,14,57.3,2.8,67.7,0.5\n",
       "                    C78.4-2,89,4.7,91.5,15.3c0.1,0.3,0.1,0.5,0.2,0.8c0.7,3.4,0.7,6.9-0.8,9.8c-1.7,3.2-0.8,5,1.5,7.2c6.7,6.5,13.3,13,19.8,19.7\n",
       "                    c1.8,1.8,3,2.1,5.5,1.2c9.1-3.4,17.9-0.6,23.4,7c4.8,6.9,4.6,16.1-0.4,22.9c-5.4,7.2-14.2,9.9-23.1,6.5c-2.3-0.9-3.5-0.6-5.1,1.1\n",
       "                    c-6.7,6.9-13.6,13.7-20.5,20.4c-1.8,1.8-2.5,3.2-1.4,5.9c3.5,8.7,0.3,18.6-7.7,23.6c-7.9,5-18.2,3.8-24.8-2.9\n",
       "                    c-6.4-6.4-7.4-16.2-2.5-24.3c4.9-7.8,14.5-11,23.1-7.8c3,1.1,4.7,0.5,6.9-1.7C91.7,98.4,98,92.3,104.2,86c1.6-1.6,4.1-2.7,2.6-6.2\n",
       "                    c-1.4-3.3-3.8-2.5-6.2-2.6C99.8,77.2,98.9,77.2,97.3,77.2z M72.1,29.7c5.5,0.1,9.9-4.3,10-9.8c0-0.1,0-0.2,0-0.3\n",
       "                    C81.8,14,77,9.8,71.5,10.2c-5,0.3-9,4.2-9.3,9.2c-0.2,5.5,4,10.1,9.5,10.3C71.8,29.7,72,29.7,72.1,29.7z M72.3,62.3\n",
       "                    c-5.4-0.1-9.9,4.2-10.1,9.7c0,0.2,0,0.3,0,0.5c0.2,5.4,4.5,9.7,9.9,10c5.1,0.1,9.9-4.7,10.1-9.8c0.2-5.5-4-10-9.5-10.3\n",
       "                    C72.6,62.3,72.4,62.3,72.3,62.3z M115,72.5c0.1,5.4,4.5,9.7,9.8,9.9c5.6-0.2,10-4.8,10-10.4c-0.2-5.4-4.6-9.7-10-9.7\n",
       "                    c-5.3-0.1-9.8,4.2-9.9,9.5C115,72.1,115,72.3,115,72.5z M19.5,62.3c-5.4,0.1-9.8,4.4-10,9.8c-0.1,5.1,5.2,10.4,10.2,10.3\n",
       "                    c5.6-0.2,10-4.9,9.8-10.5c-0.1-5.4-4.5-9.7-9.9-9.6C19.6,62.3,19.5,62.3,19.5,62.3z M71.8,134.6c5.9,0.2,10.3-3.9,10.4-9.6\n",
       "                    c0.5-5.5-3.6-10.4-9.1-10.8c-5.5-0.5-10.4,3.6-10.8,9.1c0,0.5,0,0.9,0,1.4c-0.2,5.3,4,9.8,9.3,10\n",
       "                    C71.6,134.6,71.7,134.6,71.8,134.6z\"/>\n",
       "            </g>\n",
       "        </svg>\n",
       "        <table>\n",
       "            <tr>\n",
       "                <td style=\"text-align: left\"><b>Python version:</b></td>\n",
       "                <td style=\"text-align: left\"><b>3.9.13</b></td>\n",
       "            </tr>\n",
       "            <tr>\n",
       "                <td style=\"text-align: left\"><b>Ray version:</b></td>\n",
       "                <td style=\"text-align: left\"><b> 2.3.0</b></td>\n",
       "            </tr>\n",
       "            <tr>\n",
       "    <td style=\"text-align: left\"><b>Dashboard:</b></td>\n",
       "    <td style=\"text-align: left\"><b><a href=\"http://127.0.0.1:8266\" target=\"_blank\">http://127.0.0.1:8266</a></b></td>\n",
       "</tr>\n",
       "\n",
       "        </table>\n",
       "    </div>\n",
       "</div>\n"
      ],
      "text/plain": [
       "RayContext(dashboard_url='127.0.0.1:8266', python_version='3.9.13', ray_version='2.3.0', ray_commit='cf7a56b4b0b648c324722df7c99c168e92ff0b45', address_info={'node_ip_address': '127.0.0.1', 'raylet_ip_address': '127.0.0.1', 'redis_address': None, 'object_store_address': 'tcp://127.0.0.1:41065', 'raylet_socket_name': 'tcp://127.0.0.1:44112', 'webui_url': '127.0.0.1:8266', 'session_dir': 'C:\\\\Users\\\\WULING~1\\\\AppData\\\\Local\\\\Temp\\\\ray\\\\session_2023-03-11_21-38-21_273331_15528', 'metrics_export_port': 51244, 'gcs_address': '127.0.0.1:46032', 'address': '127.0.0.1:46032', 'dashboard_agent_listen_port': 52365, 'node_id': '63ed8f8dc55682d33b15387276534be43e0704b382efbc05ba41cc94'})"
      ]
     },
     "execution_count": 2,
     "metadata": {},
     "output_type": "execute_result"
    }
   ],
   "source": [
    "ray.init()"
   ]
  },
  {
   "cell_type": "code",
   "execution_count": null,
   "metadata": {},
   "outputs": [],
   "source": [
    "dfs = []\n",
    "for root, dirs, files in os.walk(\"./datasets/SSE50/\"):\n",
    "    for file in files:\n",
    "        path = os.path.join(\"./datasets/SSE50/\", file)\n",
    "        df = pd.read_csv(path)\n",
    "        dfs.append((file, df))"
   ]
  },
  {
   "cell_type": "code",
   "execution_count": null,
   "metadata": {},
   "outputs": [],
   "source": [
    "SEED = 114\n",
    "np.random.shuffle(dfs)\n",
    "dfs = dfs[:10]\n",
    "tics = \" \".join([tic for tic, df in dfs])\n",
    "print(tics)"
   ]
  },
  {
   "cell_type": "code",
   "execution_count": null,
   "metadata": {},
   "outputs": [],
   "source": [
    "# calculate baseline\n",
    "df = list_df[0]\n",
    "df.rename(columns={\"close_\": \"close\", \"close\": \"close_\"}, inplace=True)\n",
    "print(np.log(df.close.iloc[-1]/df.close.iloc[0]))\n",
    "sns.lineplot(df.close_)"
   ]
  },
  {
   "cell_type": "code",
   "execution_count": null,
   "metadata": {},
   "outputs": [],
   "source": [
    "test_start = '2017-01-01'\n",
    "trade_start = '2020-01-01'\n",
    "test_start = pd.to_datetime(test_start, format='%Y-%m-%d')\n",
    "trade_start = pd.to_datetime(trade_start, format='%Y-%m-%d')\n",
    "\n",
    "# split\n",
    "dfs_train = []\n",
    "dfs_test = []\n",
    "dfs_trade = []\n",
    "for tic, df in dfs:\n",
    "    df.date = pd.to_datetime(df.date, format='%Y-%m-%d')\n",
    "    df_train = df.loc[df.date < test_start].sort_index(ascending=True).copy()\n",
    "    df_test = df.loc[(df.date >= test_start) & (df.date < trade_start)].sort_index(ascending=True).copy()\n",
    "    df_trade = df.loc[df.date >= trade_start].sort_index(ascending=True).copy()\n",
    "    dfs_train.append(df_train)\n",
    "    dfs_test.append(df_test)\n",
    "    dfs_trade.append(df_trade)\n",
    "\n",
    "# ensemble\n",
    "for dfs_t in [dfs_train, dfs_test, dfs_trade]:\n",
    "    dfs_t = pd.concat(dfs_t)\n",
    "    # drop dates that missing data\n",
    "    dfs_t = dfs_t.pivot_table(index=['date'], columns=['tic']).dropna().stack().reset_index()\n",
    "    dfs_t.sort_values(['date', 'tic'], inplace=True)\n",
    "    dfs_t.set_index(['date', 'tic'], inplace=True)\n",
    "    dfs_t.head(5)"
   ]
  },
  {
   "cell_type": "code",
   "execution_count": null,
   "metadata": {},
   "outputs": [],
   "source": [
    "class MyCallbacks(DefaultCallbacks):\n",
    "    def __init__(self, legacy_callbacks_dict: Dict[str, callable] = None):\n",
    "        self._eval_counter = 0\n",
    "        self._train_counter = 0\n",
    "        super().__init__(legacy_callbacks_dict)\n",
    "\n",
    "    def on_episode_end(\n",
    "        self,\n",
    "        *,\n",
    "        worker: RolloutWorker,\n",
    "        base_env: BaseEnv,\n",
    "        policies: Dict[str, Policy],\n",
    "        episode: EpisodeV2,\n",
    "        env_index: int,\n",
    "        **kwargs\n",
    "    ):\n",
    "        env = base_env.get_sub_environments()[0]\n",
    "\n",
    "        episode.custom_metrics[\"log-ret\"] = np.log(env.asset_memory[-1] / env.asset_memory[0])\n",
    "        # episode.hist_data[\"action_memory\"] = env.action_memory\n",
    "        # episode.hist_data[\"asset_memory\"] = env.asset_memory\n",
    "\n",
    "        a = np.array(env.action_memory).transpose()\n",
    "        a = softmax(a, axis=0)\n",
    "        fig, ax = plt.subplots(figsize=(16, 7))\n",
    "        plt.stackplot(np.arange(a.shape[1]), a)\n",
    "        \n",
    "        in_eval =  worker.policy_config[\"in_evaluation\"]\n",
    "        dqn_type = worker.policy_config[\"q_model_config\"][\"type\"]\n",
    "        if in_eval:\n",
    "            fig.savefig(f\"./{dqn_type}_{self._eval_counter}_{episode.episode_id:05d}.png\")\n",
    "            self._eval_counter += 1\n",
    "        else:\n",
    "            if self._train_counter % 10 == 0:\n",
    "                fig.savefig(f\"./{dqn_type}_{self._train_counter}_{episode.episode_id:05d}.png\")\n",
    "            self._train_counter += 1"
   ]
  },
  {
   "cell_type": "code",
   "execution_count": null,
   "metadata": {},
   "outputs": [],
   "source": [
    "param_space = MySACConfig().to_dict()\n",
    "param_space.update(\n",
    "    {\n",
    "        \"framework\": \"torch\",\n",
    "        \"env\": \"MultiStockTrading\",\n",
    "        \"env_config\": {\n",
    "            \"df\": dfs_train,\n",
    "        # \"verbose\": True,\n",
    "        },\n",
    "        \"policy_model_config\": {\n",
    "            \"lstm_dim\": 64,\n",
    "            \"net_arch\": [256, 256],\n",
    "        },\n",
    "        \"q_model_config\": {\n",
    "            \"type\": tune.grid_search([\"dqn\", \"cqn\", \"qrdqn\", \"iqn\"]),\n",
    "            \"lstm_dim\": 64,\n",
    "            \"num_atoms\": 50,\n",
    "            \"net_arch\": [256, 256],\n",
    "            \"num_critics\": 1,\n",
    "            # cqn\n",
    "            \"vmin\": -80.0,\n",
    "            \"vmax\": 0,\n",
    "            # iqn\n",
    "            \"risk_distortion_measure\": None,\n",
    "            \"cos_embedding_dim\": 64,\n",
    "        },\n",
    "        \"tau\": 0.01,\n",
    "        \"target_entropy\": \"auto\",\n",
    "        \"n_step\": 1,\n",
    "        \"train_batch_size\": 256,\n",
    "        \"target_network_update_freq\": 1,\n",
    "        \"grad_clip\": 40,\n",
    "        \"min_sample_timesteps_per_iteration\": 200,\n",
    "        \"num_steps_sampled_before_learning_starts\": 256,\n",
    "        \"metrics_num_episodes_for_smoothing\": 5,\n",
    "        \"num_workers\": 0,\n",
    "        \"num_envs_per_worker\": 2,\n",
    "        \"num_cpus_per_worker\": 1,\n",
    "        \"num_steps_sampled_before_learning_starts\": 256,\n",
    "        \"train_batch_size\": 256,\n",
    "        \"target_network_update_freq\": 1,\n",
    "        \"callbacks\": MyCallbacks,\n",
    "\n",
    "        \"evaluation_interval\": 3,\n",
    "        \"evaluation_duration\": 1,\n",
    "        \"evaluation_duration_unit\": \"episodes\",\n",
    "        \"evaluation_num_workers\": 1,\n",
    "        \"evaluation_config\": {\n",
    "            \"explore\": False,\n",
    "            \"env_config\": {\n",
    "                \"df\": dfs_test,\n",
    "            },\n",
    "        }\n",
    "    }\n",
    ")\n",
    "param_space"
   ]
  },
  {
   "cell_type": "code",
   "execution_count": null,
   "metadata": {},
   "outputs": [],
   "source": [
    "tuner = tune.Tuner(\n",
    "    MySAC, \n",
    "    param_space=param_space,\n",
    "    tune_config=tune.TuneConfig(num_samples=1),\n",
    "    run_config=air.RunConfig(\n",
    "        progress_reporter=JupyterNotebookReporter(),\n",
    "        stop={\n",
    "            \"episode_reward_mean\": 10,\n",
    "            \"timesteps_total\": 10000,\n",
    "        },\n",
    "        callbacks=[TBXLoggerCallback()],\n",
    "    )\n",
    ")"
   ]
  },
  {
   "cell_type": "code",
   "execution_count": null,
   "metadata": {},
   "outputs": [],
   "source": [
    "results = tuner.fit()"
   ]
  },
  {
   "cell_type": "code",
   "execution_count": null,
   "metadata": {},
   "outputs": [],
   "source": [
    "result = results.get_best_result(metric=\"episode_reward_mean\", mode=\"max\")\n",
    "cp = result.best_checkpoints[0][0]\n",
    "algo = MySAC.from_checkpoint(cp)"
   ]
  }
 ],
 "metadata": {
  "kernelspec": {
   "display_name": "FTL",
   "language": "python",
   "name": "python3"
  },
  "language_info": {
   "codemirror_mode": {
    "name": "ipython",
    "version": 3
   },
   "file_extension": ".py",
   "mimetype": "text/x-python",
   "name": "python",
   "nbconvert_exporter": "python",
   "pygments_lexer": "ipython3",
   "version": "3.9.13"
  },
  "orig_nbformat": 4
 },
 "nbformat": 4,
 "nbformat_minor": 2
}
